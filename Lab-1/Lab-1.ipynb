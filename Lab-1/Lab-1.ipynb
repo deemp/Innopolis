{
 "cells": [
  {
   "cell_type": "markdown",
   "metadata": {
    "collapsed": true,
    "pycharm": {
     "name": "#%% md\n"
    }
   },
   "source": [
    "# Lab-1: Data Manipulation and Exploration.\n",
    "_____\n",
    "##### In this lab, you will manipulate a dataset and prepare it for training and testing.\n",
    "\n",
    "### Objectives:\n",
    "1. Data exploration\n",
    "2. One-hot-encoding of categorical features\n",
    "3. Data imputation\n",
    "4. Features Scaling\n",
    "5. Trainset splitting\n",
    "6. Data plotting\n",
    "-----\n",
    "### Loading Data"
   ]
  },
  {
   "cell_type": "code",
   "execution_count": 6,
   "outputs": [],
   "source": [
    "import pandas as pd\n",
    "\n",
    "data = pd.read_csv('../data/train.csv')\n",
    "x_test_private = pd.read_csv('../data/test.csv')\n",
    "x_train = data.loc[:, :'Gender Inequality Index (GII)']\n",
    "y_train = data['y']"
   ],
   "metadata": {
    "collapsed": false,
    "pycharm": {
     "name": "#%%\n"
    }
   }
  },
  {
   "cell_type": "markdown",
   "source": [
    "### Data exploration"
   ],
   "metadata": {
    "collapsed": false
   }
  },
  {
   "cell_type": "code",
   "execution_count": 2,
   "outputs": [
    {
     "data": {
      "text/plain": "   galactic year                        galaxy  existence expectancy index  \\\n0         990025  Large Magellanic Cloud (LMC)                    0.628657   \n1         990025              Camelopardalis B                    0.818082   \n2         990025                       Virgo I                    0.659443   \n3         990025            UGC 8651 (DDO 181)                    0.555862   \n4         990025                  Tucana Dwarf                    0.991196   \n\n   existence expectancy at birth  Gross income per capita  Income Index  \\\n0                      63.125200             27109.234310      0.646039   \n1                      81.004994             30166.793958      0.852246   \n2                      59.570534              8441.707353      0.499762   \n3                      52.333293                      NaN           NaN   \n4                      81.802464             81033.956906      1.131163   \n\n   Expected years of education (galactic years)  \\\n0                                      8.240543   \n1                                     10.671823   \n2                                      8.840316   \n3                                           NaN   \n4                                     13.800672   \n\n   Mean years of education (galactic years)  \\\n0                                       NaN   \n1                                  4.742470   \n2                                  5.583973   \n3                                       NaN   \n4                                 13.188907   \n\n   Intergalactic Development Index (IDI)  Education Index  ...  \\\n0                                    NaN              NaN  ...   \n1                               0.833624         0.467873  ...   \n2                               0.469110         0.363837  ...   \n3                                    NaN              NaN  ...   \n4                               0.910341         0.918353  ...   \n\n   Intergalactic Development Index (IDI), female  \\\n0                                            NaN   \n1                                            NaN   \n2                                            NaN   \n3                                            NaN   \n4                                            NaN   \n\n   Intergalactic Development Index (IDI), male  \\\n0                                          NaN   \n1                                          NaN   \n2                                          NaN   \n3                                          NaN   \n4                                          NaN   \n\n   Gender Development Index (GDI)  \\\n0                             NaN   \n1                             NaN   \n2                             NaN   \n3                             NaN   \n4                             NaN   \n\n   Intergalactic Development Index (IDI), female, Rank  \\\n0                                                NaN     \n1                                                NaN     \n2                                                NaN     \n3                                                NaN     \n4                                                NaN     \n\n   Intergalactic Development Index (IDI), male, Rank  Adjusted net savings   \\\n0                                                NaN                    NaN   \n1                                                NaN              19.177926   \n2                                                NaN              21.151265   \n3                                                NaN                    NaN   \n4                                                NaN                    NaN   \n\n   Creature Immunodeficiency Disease prevalence, adult (% ages 15-49), total  \\\n0                                                NaN                           \n1                                                NaN                           \n2                                           6.534020                           \n3                                           5.912194                           \n4                                           5.611753                           \n\n   Private galaxy capital flows (% of GGP)  Gender Inequality Index (GII)  \\\n0                                      NaN                            NaN   \n1                                22.785018                            NaN   \n2                                      NaN                            NaN   \n3                                      NaN                            NaN   \n4                                      NaN                            NaN   \n\n          y  \n0  0.052590  \n1  0.059868  \n2  0.050449  \n3  0.049394  \n4  0.154247  \n\n[5 rows x 80 columns]",
      "text/html": "<div>\n<style scoped>\n    .dataframe tbody tr th:only-of-type {\n        vertical-align: middle;\n    }\n\n    .dataframe tbody tr th {\n        vertical-align: top;\n    }\n\n    .dataframe thead th {\n        text-align: right;\n    }\n</style>\n<table border=\"1\" class=\"dataframe\">\n  <thead>\n    <tr style=\"text-align: right;\">\n      <th></th>\n      <th>galactic year</th>\n      <th>galaxy</th>\n      <th>existence expectancy index</th>\n      <th>existence expectancy at birth</th>\n      <th>Gross income per capita</th>\n      <th>Income Index</th>\n      <th>Expected years of education (galactic years)</th>\n      <th>Mean years of education (galactic years)</th>\n      <th>Intergalactic Development Index (IDI)</th>\n      <th>Education Index</th>\n      <th>...</th>\n      <th>Intergalactic Development Index (IDI), female</th>\n      <th>Intergalactic Development Index (IDI), male</th>\n      <th>Gender Development Index (GDI)</th>\n      <th>Intergalactic Development Index (IDI), female, Rank</th>\n      <th>Intergalactic Development Index (IDI), male, Rank</th>\n      <th>Adjusted net savings</th>\n      <th>Creature Immunodeficiency Disease prevalence, adult (% ages 15-49), total</th>\n      <th>Private galaxy capital flows (% of GGP)</th>\n      <th>Gender Inequality Index (GII)</th>\n      <th>y</th>\n    </tr>\n  </thead>\n  <tbody>\n    <tr>\n      <th>0</th>\n      <td>990025</td>\n      <td>Large Magellanic Cloud (LMC)</td>\n      <td>0.628657</td>\n      <td>63.125200</td>\n      <td>27109.234310</td>\n      <td>0.646039</td>\n      <td>8.240543</td>\n      <td>NaN</td>\n      <td>NaN</td>\n      <td>NaN</td>\n      <td>...</td>\n      <td>NaN</td>\n      <td>NaN</td>\n      <td>NaN</td>\n      <td>NaN</td>\n      <td>NaN</td>\n      <td>NaN</td>\n      <td>NaN</td>\n      <td>NaN</td>\n      <td>NaN</td>\n      <td>0.052590</td>\n    </tr>\n    <tr>\n      <th>1</th>\n      <td>990025</td>\n      <td>Camelopardalis B</td>\n      <td>0.818082</td>\n      <td>81.004994</td>\n      <td>30166.793958</td>\n      <td>0.852246</td>\n      <td>10.671823</td>\n      <td>4.742470</td>\n      <td>0.833624</td>\n      <td>0.467873</td>\n      <td>...</td>\n      <td>NaN</td>\n      <td>NaN</td>\n      <td>NaN</td>\n      <td>NaN</td>\n      <td>NaN</td>\n      <td>19.177926</td>\n      <td>NaN</td>\n      <td>22.785018</td>\n      <td>NaN</td>\n      <td>0.059868</td>\n    </tr>\n    <tr>\n      <th>2</th>\n      <td>990025</td>\n      <td>Virgo I</td>\n      <td>0.659443</td>\n      <td>59.570534</td>\n      <td>8441.707353</td>\n      <td>0.499762</td>\n      <td>8.840316</td>\n      <td>5.583973</td>\n      <td>0.469110</td>\n      <td>0.363837</td>\n      <td>...</td>\n      <td>NaN</td>\n      <td>NaN</td>\n      <td>NaN</td>\n      <td>NaN</td>\n      <td>NaN</td>\n      <td>21.151265</td>\n      <td>6.534020</td>\n      <td>NaN</td>\n      <td>NaN</td>\n      <td>0.050449</td>\n    </tr>\n    <tr>\n      <th>3</th>\n      <td>990025</td>\n      <td>UGC 8651 (DDO 181)</td>\n      <td>0.555862</td>\n      <td>52.333293</td>\n      <td>NaN</td>\n      <td>NaN</td>\n      <td>NaN</td>\n      <td>NaN</td>\n      <td>NaN</td>\n      <td>NaN</td>\n      <td>...</td>\n      <td>NaN</td>\n      <td>NaN</td>\n      <td>NaN</td>\n      <td>NaN</td>\n      <td>NaN</td>\n      <td>NaN</td>\n      <td>5.912194</td>\n      <td>NaN</td>\n      <td>NaN</td>\n      <td>0.049394</td>\n    </tr>\n    <tr>\n      <th>4</th>\n      <td>990025</td>\n      <td>Tucana Dwarf</td>\n      <td>0.991196</td>\n      <td>81.802464</td>\n      <td>81033.956906</td>\n      <td>1.131163</td>\n      <td>13.800672</td>\n      <td>13.188907</td>\n      <td>0.910341</td>\n      <td>0.918353</td>\n      <td>...</td>\n      <td>NaN</td>\n      <td>NaN</td>\n      <td>NaN</td>\n      <td>NaN</td>\n      <td>NaN</td>\n      <td>NaN</td>\n      <td>5.611753</td>\n      <td>NaN</td>\n      <td>NaN</td>\n      <td>0.154247</td>\n    </tr>\n  </tbody>\n</table>\n<p>5 rows × 80 columns</p>\n</div>"
     },
     "execution_count": 2,
     "metadata": {},
     "output_type": "execute_result"
    }
   ],
   "source": [
    "x_train.head(5)"
   ],
   "metadata": {
    "collapsed": false,
    "pycharm": {
     "name": "#%%\n"
    }
   }
  },
  {
   "cell_type": "code",
   "execution_count": 7,
   "outputs": [
    {
     "name": "stdout",
     "output_type": "stream",
     "text": [
      "Number categorical featues: 1\n",
      "galactic year                                                                         int64\n",
      "galaxy                                                                               object\n",
      "existence expectancy index                                                          float64\n",
      "existence expectancy at birth                                                       float64\n",
      "Gross income per capita                                                             float64\n",
      "Income Index                                                                        float64\n",
      "Expected years of education (galactic years)                                        float64\n",
      "Mean years of education (galactic years)                                            float64\n",
      "Intergalactic Development Index (IDI)                                               float64\n",
      "Education Index                                                                     float64\n",
      "Intergalactic Development Index (IDI), Rank                                         float64\n",
      "Population using at least basic drinking-water services (%)                         float64\n",
      "Population using at least basic sanitation services (%)                             float64\n",
      "Gross capital formation (% of GGP)                                                  float64\n",
      "Population, total (millions)                                                        float64\n",
      "Population, urban (%)                                                               float64\n",
      "Mortality rate, under-five (per 1,000 live births)                                  float64\n",
      "Mortality rate, infant (per 1,000 live births)                                      float64\n",
      "Old age dependency ratio (old age (65 and older) per 100 creatures (ages 15-64))    float64\n",
      "Population, ages 15–64 (millions)                                                   float64\n",
      "Population, ages 65 and older (millions)                                            float64\n",
      "Life expectancy at birth, male (galactic years)                                     float64\n",
      "Life expectancy at birth, female (galactic years)                                   float64\n",
      "Population, under age 5 (millions)                                                  float64\n",
      "Young age (0-14) dependency ratio (per 100 creatures ages 15-64)                    float64\n",
      "Adolescent birth rate (births per 1,000 female creatures ages 15-19)                float64\n",
      "Total unemployment rate (female to male ratio)                                      float64\n",
      "Vulnerable employment (% of total employment)                                       float64\n",
      "Unemployment, total (% of labour force)                                             float64\n",
      "Employment in agriculture (% of total employment)                                   float64\n",
      "                                                                                     ...   \n",
      "Mean years of education, female (galactic years)                                    float64\n",
      "Mean years of education, male (galactic years)                                      float64\n",
      "Expected years of education, female (galactic years)                                float64\n",
      "Expected years of education, male (galactic years)                                  float64\n",
      "Maternal mortality ratio (deaths per 100,000 live births)                           float64\n",
      "Renewable energy consumption (% of total final energy consumption)                  float64\n",
      "Estimated gross galactic income per capita, male                                    float64\n",
      "Estimated gross galactic income per capita, female                                  float64\n",
      "Rural population with access to electricity (%)                                     float64\n",
      "Domestic credit provided by financial sector (% of GGP)                             float64\n",
      "Population with at least some secondary education, female (% ages 25 and older)     float64\n",
      "Population with at least some secondary education, male (% ages 25 and older)       float64\n",
      "Gross fixed capital formation (% of GGP)                                            float64\n",
      "Remittances, inflows (% of GGP)                                                     float64\n",
      "Population with at least some secondary education (% ages 25 and older)             float64\n",
      "Intergalactic inbound tourists (thousands)                                          float64\n",
      "Gross enrolment ratio, primary (% of primary under-age population)                  float64\n",
      "Respiratory disease incidence (per 100,000 people)                                  float64\n",
      "Interstellar phone subscriptions (per 100 people)                                   float64\n",
      "Interstellar Data Net users, total (% of population)                                float64\n",
      "Current health expenditure (% of GGP)                                               float64\n",
      "Intergalactic Development Index (IDI), female                                       float64\n",
      "Intergalactic Development Index (IDI), male                                         float64\n",
      "Gender Development Index (GDI)                                                      float64\n",
      "Intergalactic Development Index (IDI), female, Rank                                 float64\n",
      "Intergalactic Development Index (IDI), male, Rank                                   float64\n",
      "Adjusted net savings                                                                float64\n",
      "Creature Immunodeficiency Disease prevalence, adult (% ages 15-49), total           float64\n",
      "Private galaxy capital flows (% of GGP)                                             float64\n",
      "Gender Inequality Index (GII)                                                       float64\n",
      "Length: 79, dtype: object\n"
     ]
    }
   ],
   "source": [
    "types = x_train.dtypes\n",
    "print(\"Number categorical featues:\", sum(types=='object'))\n",
    "print(types)"
   ],
   "metadata": {
    "collapsed": false,
    "pycharm": {
     "name": "#%%\n"
    }
   }
  },
  {
   "cell_type": "code",
   "execution_count": 4,
   "outputs": [
    {
     "data": {
      "text/plain": "       galactic year  existence expectancy index  \\\ncount   3.865000e+03                 3864.000000   \nmean    1.000709e+06                    0.872479   \nstd     6.945463e+03                    0.162367   \nmin     9.900250e+05                    0.227890   \n25%     9.950060e+05                    0.763027   \n50%     1.000000e+06                    0.907359   \n75%     1.006009e+06                    0.992760   \nmax     1.015056e+06                    1.246908   \n\n       existence expectancy at birth  Gross income per capita  Income Index  \\\ncount                    3864.000000              3837.000000   3837.000000   \nmean                       76.798111             31633.240872      0.825154   \nstd                        10.461654             18736.378445      0.194055   \nmin                        34.244062              -126.906522      0.292001   \n25%                        69.961449             20169.118912      0.677131   \n50%                        78.995101             26600.768195      0.827300   \n75%                        84.558971             36898.631754      0.970295   \nmax                       100.210053            151072.683156      1.361883   \n\n       Expected years of education (galactic years)  \\\ncount                                   3732.000000   \nmean                                      14.723296   \nstd                                        3.612546   \nmin                                        3.799663   \n25%                                       12.592467   \n50%                                       14.942913   \n75%                                       17.123797   \nmax                                       26.955944   \n\n       Mean years of education (galactic years)  \\\ncount                               3502.000000   \nmean                                  10.283959   \nstd                                    3.319948   \nmin                                    1.928166   \n25%                                    7.654169   \n50%                                   10.385465   \n75%                                   12.884752   \nmax                                   19.057648   \n\n       Intergalactic Development Index (IDI)  Education Index  \\\ncount                            3474.000000      3474.000000   \nmean                                0.804246         0.745900   \nstd                                 0.176242         0.199795   \nmin                                 0.273684         0.189874   \n25%                                 0.671862         0.597746   \n50%                                 0.824758         0.761255   \n75%                                 0.939043         0.893505   \nmax                                 1.232814         1.269625   \n\n       Intergalactic Development Index (IDI), Rank  ...  \\\ncount                                  3432.000000  ...   \nmean                                    135.129178  ...   \nstd                                      52.449535  ...   \nmin                                       9.925906  ...   \n25%                                      92.262724  ...   \n50%                                     135.914318  ...   \n75%                                     175.301993  ...   \nmax                                     278.786613  ...   \n\n       Intergalactic Development Index (IDI), female  \\\ncount                                     916.000000   \nmean                                        0.823561   \nstd                                         0.185780   \nmin                                         0.305733   \n25%                                         0.690707   \n50%                                         0.835410   \n75%                                         0.970365   \nmax                                         1.237661   \n\n       Intergalactic Development Index (IDI), male  \\\ncount                                   915.000000   \nmean                                      0.844209   \nstd                                       0.159041   \nmin                                       0.369519   \n25%                                       0.731264   \n50%                                       0.862773   \n75%                                       0.961369   \nmax                                       1.182746   \n\n       Gender Development Index (GDI)  \\\ncount                      914.000000   \nmean                         1.008465   \nstd                          0.087299   \nmin                          0.465177   \n25%                          0.965800   \n50%                          1.029947   \n75%                          1.068481   \nmax                          1.181230   \n\n       Intergalactic Development Index (IDI), female, Rank  \\\ncount                                         893.000000     \nmean                                          121.754797     \nstd                                            46.269362     \nmin                                            23.224603     \n25%                                            84.090816     \n50%                                           120.069916     \n75%                                           158.579644     \nmax                                           232.720847     \n\n       Intergalactic Development Index (IDI), male, Rank  \\\ncount                                         892.000000   \nmean                                          120.873428   \nstd                                            46.795666   \nmin                                            16.215151   \n25%                                            82.232550   \n50%                                           121.057923   \n75%                                           157.815625   \nmax                                           233.915373   \n\n       Adjusted net savings   \\\ncount             912.000000   \nmean               21.252922   \nstd                14.258986   \nmin               -76.741414   \n25%                15.001028   \n50%                22.182571   \n75%                29.134738   \nmax                61.903641   \n\n       Creature Immunodeficiency Disease prevalence, adult (% ages 15-49), total  \\\ncount                                         941.000000                           \nmean                                            6.443023                           \nstd                                             4.804873                           \nmin                                            -1.192011                           \n25%                                             4.113472                           \n50%                                             5.309497                           \n75%                                             6.814577                           \nmax                                            36.538462                           \n\n       Private galaxy capital flows (% of GGP)  Gender Inequality Index (GII)  \\\ncount                               874.000000                     844.000000   \nmean                                 22.261474                       0.600733   \nstd                                  34.342797                       0.205785   \nmin                                -735.186886                       0.089092   \n25%                                  17.227899                       0.430332   \n50%                                  24.472557                       0.624640   \n75%                                  31.748295                       0.767404   \nmax                                  95.941245                       1.098439   \n\n                 y  \ncount  3865.000000  \nmean      0.082773  \nstd       0.063415  \nmin       0.013036  \n25%       0.047889  \n50%       0.057820  \n75%       0.087389  \nmax       0.683813  \n\n[8 rows x 79 columns]",
      "text/html": "<div>\n<style scoped>\n    .dataframe tbody tr th:only-of-type {\n        vertical-align: middle;\n    }\n\n    .dataframe tbody tr th {\n        vertical-align: top;\n    }\n\n    .dataframe thead th {\n        text-align: right;\n    }\n</style>\n<table border=\"1\" class=\"dataframe\">\n  <thead>\n    <tr style=\"text-align: right;\">\n      <th></th>\n      <th>galactic year</th>\n      <th>existence expectancy index</th>\n      <th>existence expectancy at birth</th>\n      <th>Gross income per capita</th>\n      <th>Income Index</th>\n      <th>Expected years of education (galactic years)</th>\n      <th>Mean years of education (galactic years)</th>\n      <th>Intergalactic Development Index (IDI)</th>\n      <th>Education Index</th>\n      <th>Intergalactic Development Index (IDI), Rank</th>\n      <th>...</th>\n      <th>Intergalactic Development Index (IDI), female</th>\n      <th>Intergalactic Development Index (IDI), male</th>\n      <th>Gender Development Index (GDI)</th>\n      <th>Intergalactic Development Index (IDI), female, Rank</th>\n      <th>Intergalactic Development Index (IDI), male, Rank</th>\n      <th>Adjusted net savings</th>\n      <th>Creature Immunodeficiency Disease prevalence, adult (% ages 15-49), total</th>\n      <th>Private galaxy capital flows (% of GGP)</th>\n      <th>Gender Inequality Index (GII)</th>\n      <th>y</th>\n    </tr>\n  </thead>\n  <tbody>\n    <tr>\n      <th>count</th>\n      <td>3.865000e+03</td>\n      <td>3864.000000</td>\n      <td>3864.000000</td>\n      <td>3837.000000</td>\n      <td>3837.000000</td>\n      <td>3732.000000</td>\n      <td>3502.000000</td>\n      <td>3474.000000</td>\n      <td>3474.000000</td>\n      <td>3432.000000</td>\n      <td>...</td>\n      <td>916.000000</td>\n      <td>915.000000</td>\n      <td>914.000000</td>\n      <td>893.000000</td>\n      <td>892.000000</td>\n      <td>912.000000</td>\n      <td>941.000000</td>\n      <td>874.000000</td>\n      <td>844.000000</td>\n      <td>3865.000000</td>\n    </tr>\n    <tr>\n      <th>mean</th>\n      <td>1.000709e+06</td>\n      <td>0.872479</td>\n      <td>76.798111</td>\n      <td>31633.240872</td>\n      <td>0.825154</td>\n      <td>14.723296</td>\n      <td>10.283959</td>\n      <td>0.804246</td>\n      <td>0.745900</td>\n      <td>135.129178</td>\n      <td>...</td>\n      <td>0.823561</td>\n      <td>0.844209</td>\n      <td>1.008465</td>\n      <td>121.754797</td>\n      <td>120.873428</td>\n      <td>21.252922</td>\n      <td>6.443023</td>\n      <td>22.261474</td>\n      <td>0.600733</td>\n      <td>0.082773</td>\n    </tr>\n    <tr>\n      <th>std</th>\n      <td>6.945463e+03</td>\n      <td>0.162367</td>\n      <td>10.461654</td>\n      <td>18736.378445</td>\n      <td>0.194055</td>\n      <td>3.612546</td>\n      <td>3.319948</td>\n      <td>0.176242</td>\n      <td>0.199795</td>\n      <td>52.449535</td>\n      <td>...</td>\n      <td>0.185780</td>\n      <td>0.159041</td>\n      <td>0.087299</td>\n      <td>46.269362</td>\n      <td>46.795666</td>\n      <td>14.258986</td>\n      <td>4.804873</td>\n      <td>34.342797</td>\n      <td>0.205785</td>\n      <td>0.063415</td>\n    </tr>\n    <tr>\n      <th>min</th>\n      <td>9.900250e+05</td>\n      <td>0.227890</td>\n      <td>34.244062</td>\n      <td>-126.906522</td>\n      <td>0.292001</td>\n      <td>3.799663</td>\n      <td>1.928166</td>\n      <td>0.273684</td>\n      <td>0.189874</td>\n      <td>9.925906</td>\n      <td>...</td>\n      <td>0.305733</td>\n      <td>0.369519</td>\n      <td>0.465177</td>\n      <td>23.224603</td>\n      <td>16.215151</td>\n      <td>-76.741414</td>\n      <td>-1.192011</td>\n      <td>-735.186886</td>\n      <td>0.089092</td>\n      <td>0.013036</td>\n    </tr>\n    <tr>\n      <th>25%</th>\n      <td>9.950060e+05</td>\n      <td>0.763027</td>\n      <td>69.961449</td>\n      <td>20169.118912</td>\n      <td>0.677131</td>\n      <td>12.592467</td>\n      <td>7.654169</td>\n      <td>0.671862</td>\n      <td>0.597746</td>\n      <td>92.262724</td>\n      <td>...</td>\n      <td>0.690707</td>\n      <td>0.731264</td>\n      <td>0.965800</td>\n      <td>84.090816</td>\n      <td>82.232550</td>\n      <td>15.001028</td>\n      <td>4.113472</td>\n      <td>17.227899</td>\n      <td>0.430332</td>\n      <td>0.047889</td>\n    </tr>\n    <tr>\n      <th>50%</th>\n      <td>1.000000e+06</td>\n      <td>0.907359</td>\n      <td>78.995101</td>\n      <td>26600.768195</td>\n      <td>0.827300</td>\n      <td>14.942913</td>\n      <td>10.385465</td>\n      <td>0.824758</td>\n      <td>0.761255</td>\n      <td>135.914318</td>\n      <td>...</td>\n      <td>0.835410</td>\n      <td>0.862773</td>\n      <td>1.029947</td>\n      <td>120.069916</td>\n      <td>121.057923</td>\n      <td>22.182571</td>\n      <td>5.309497</td>\n      <td>24.472557</td>\n      <td>0.624640</td>\n      <td>0.057820</td>\n    </tr>\n    <tr>\n      <th>75%</th>\n      <td>1.006009e+06</td>\n      <td>0.992760</td>\n      <td>84.558971</td>\n      <td>36898.631754</td>\n      <td>0.970295</td>\n      <td>17.123797</td>\n      <td>12.884752</td>\n      <td>0.939043</td>\n      <td>0.893505</td>\n      <td>175.301993</td>\n      <td>...</td>\n      <td>0.970365</td>\n      <td>0.961369</td>\n      <td>1.068481</td>\n      <td>158.579644</td>\n      <td>157.815625</td>\n      <td>29.134738</td>\n      <td>6.814577</td>\n      <td>31.748295</td>\n      <td>0.767404</td>\n      <td>0.087389</td>\n    </tr>\n    <tr>\n      <th>max</th>\n      <td>1.015056e+06</td>\n      <td>1.246908</td>\n      <td>100.210053</td>\n      <td>151072.683156</td>\n      <td>1.361883</td>\n      <td>26.955944</td>\n      <td>19.057648</td>\n      <td>1.232814</td>\n      <td>1.269625</td>\n      <td>278.786613</td>\n      <td>...</td>\n      <td>1.237661</td>\n      <td>1.182746</td>\n      <td>1.181230</td>\n      <td>232.720847</td>\n      <td>233.915373</td>\n      <td>61.903641</td>\n      <td>36.538462</td>\n      <td>95.941245</td>\n      <td>1.098439</td>\n      <td>0.683813</td>\n    </tr>\n  </tbody>\n</table>\n<p>8 rows × 79 columns</p>\n</div>"
     },
     "execution_count": 4,
     "metadata": {},
     "output_type": "execute_result"
    }
   ],
   "source": [
    "x_train.describe()"
   ],
   "metadata": {
    "collapsed": false,
    "pycharm": {
     "name": "#%%\n"
    }
   }
  },
  {
   "cell_type": "markdown",
   "source": [
    "### One-hot-encoding of categorical feature\n",
    "1. Why to encode the categorical feature?\n",
    "2. Why one-hot-encoding form? why not give each category in the feature a specific code value?\n",
    "3. How many new features will be added? What if we have some missing values, which is the case in this dataset?\n",
    "4. When is it appropriate to give each category an encoding value?\n",
    "\n",
    "##### In the next cell, implement the function that take a dataframe, name of the categorical feature, and the encoder object. Then, adds new features that represent the one-hot-encoding form of this feature and ignore the missing values in it (encode them to zeros).\n",
    "##### Then encode the same column/feature in the testset with the same encoder object."
   ],
   "metadata": {
    "collapsed": false,
    "pycharm": {
     "name": "#%% md\n"
    }
   }
  },
  {
   "cell_type": "code",
   "execution_count": null,
   "outputs": [],
   "source": [
    "from sklearn.preprocessing import OneHotEncoder\n",
    "\n",
    "encoder = None\n",
    "\n",
    "def ohe_new_features(df, feature_name, encoder):\n",
    "    # Write your code here (4:6 lines) ###\n",
    "    # create new features from the encoder transform function\n",
    "    # concat it to the original dataframe\n",
    "    # delete the categorical feature.\n",
    "    pass\n",
    "\n",
    "# Write your code here (2 lines)\n",
    "# Transform both train and testset."
   ],
   "metadata": {
    "collapsed": false,
    "pycharm": {
     "name": "#%%\n"
    }
   }
  },
  {
   "cell_type": "markdown",
   "source": [
    "### Data Imputation\n",
    "#### Imputation is filling the missing values in the dataset.\n",
    "Several issues to address:\n",
    "1. Why we should fill them? Why not remove the rows that has missing values?\n",
    "2. Filling it with constant value for each value, but what's it?\n",
    "3. (Advanced) Estimate the filling value, each row for its own.\n",
    "4. How to choose the imputation strategy?\n",
    "4. (Not related only to imputations) Why we fit the imputer to the training data not the concatenation of both train and test set?\n",
    "\n",
    "##### In the next cell, implement a function that returns the count of nan/empty cells in a dataframe.\n",
    "##### Use SimpleImputer object, fit it to the trainset, then transform both the train and test sets."
   ],
   "metadata": {
    "collapsed": false
   }
  },
  {
   "cell_type": "code",
   "execution_count": null,
   "outputs": [],
   "source": [
    "from sklearn.impute import SimpleImputer\n",
    "\n",
    "# Complete a function that returns number of empty cells in\n",
    "def count_nans(df):\n",
    "    # 1 or 2 lines.\n",
    "    pass\n",
    "# Print number of empty cells both in x_train and x_test_private (1 line)\n",
    "\n",
    "# Write your code here (4 lines):\n",
    "# create the imputer object.\n",
    "# fit it to the trainset.\n",
    "# transform the train and test set.\n",
    "\n",
    "\n",
    "# Print number of empty cells both in x_train and x_test_private (1 line)\n",
    "\n",
    "\n"
   ],
   "metadata": {
    "collapsed": false,
    "pycharm": {
     "name": "#%%\n"
    }
   }
  },
  {
   "cell_type": "markdown",
   "source": [
    "### Features Scaling\n",
    "1. Why we need to make all the features have same range of values?\n",
    "2. What are the different strategies to scale the features?\n",
    "3. How to choose the strategy?\n",
    "\n",
    "##### In the following cell, scale all the features with a scaler from your choice. Fit the scaler on the training set and transform both train and test set."
   ],
   "metadata": {
    "collapsed": false
   }
  },
  {
   "cell_type": "code",
   "execution_count": null,
   "outputs": [],
   "source": [
    "# Write your code here (5 lines):\n",
    "# choose the scaler class.\n",
    "# create the scaler object.\n",
    "# fit it to the trainset.\n",
    "# transform the train and test set.\n",
    "\n",
    "from sklearn.preprocessing import ???"
   ],
   "metadata": {
    "collapsed": false,
    "pycharm": {
     "name": "#%%\n"
    }
   }
  },
  {
   "cell_type": "markdown",
   "source": [
    "### Trainset splitting\n",
    "Issues that lead to trainset splitting:\n",
    "1. How we will measure the performance of our model?\n",
    "2. How we will tune the hyperparamters? Can it be done with testset?\n",
    "\n",
    "Issues to think of:\n",
    "1. Is is the best strategy to get the best estimate for the true risk/performance of the system?\n",
    "2. How to choose between two models?\n",
    "\n",
    "\n",
    "##### In the next task, you will split your data into 3 parts, train, test, and validation by ratios: 70%, 20%, and 10% respectively."
   ],
   "metadata": {
    "collapsed": false,
    "pycharm": {
     "name": "#%% md\n"
    }
   }
  },
  {
   "cell_type": "code",
   "execution_count": null,
   "outputs": [],
   "source": [
    "from sklearn.model_selection import train_test_split\n",
    "# Write your code here (2 lines)"
   ],
   "metadata": {
    "collapsed": false,
    "pycharm": {
     "name": "#%%\n"
    }
   }
  },
  {
   "cell_type": "markdown",
   "source": [
    "### Data Plotting\n",
    "Visualization is key-issue to get some insights and intuition about your dataset.\n",
    "How to plot 79 features (79-dimensional data)? what we can plot -at maximum- is 2d or 3d data.\n",
    "\n",
    "Hint: We should reduce the dimension. Read this [article](https://towardsdatascience.com/dimensionality-reduction-ways-and-intuitions-1b5e97592d8e).\n",
    "\n",
    "So, Let's use MDS to reduce the dimension of this dataset to be 2D. (refer to the above article on how to use and the intuition behind it)."
   ],
   "metadata": {
    "collapsed": false
   }
  },
  {
   "cell_type": "code",
   "execution_count": null,
   "outputs": [],
   "source": [
    "from sklearn.decomposition import PCA, FactorAnalysis, FastICA\n",
    "from sklearn.manifold import MDS, TSNE\n",
    "from umap import UMAP\n",
    "\n",
    "dim_reducer = UMAP(n_components=2)\n",
    "x_train_reduced = dim_reducer.fit_transform(x_train)\n"
   ],
   "metadata": {
    "collapsed": false,
    "pycharm": {
     "name": "#%%\n"
    }
   }
  },
  {
   "cell_type": "markdown",
   "source": [
    "Let's plot the reduced dataset on a 2D plane.\n",
    "Use matplotlib to make a scatter plot for the reduced dataset."
   ],
   "metadata": {
    "collapsed": false
   }
  },
  {
   "cell_type": "code",
   "execution_count": null,
   "outputs": [],
   "source": [
    "import matplotlib.pyplot as plt\n",
    "%matplotlib inline\n",
    "\n",
    "# Write code to plot the reduced dataset in a scatter plot."
   ],
   "metadata": {
    "collapsed": false,
    "pycharm": {
     "name": "#%%\n"
    }
   }
  }
 ],
 "metadata": {
  "kernelspec": {
   "display_name": "Python 3",
   "language": "python",
   "name": "python3"
  },
  "language_info": {
   "codemirror_mode": {
    "name": "ipython",
    "version": 2
   },
   "file_extension": ".py",
   "mimetype": "text/x-python",
   "name": "python",
   "nbconvert_exporter": "python",
   "pygments_lexer": "ipython2",
   "version": "2.7.6"
  }
 },
 "nbformat": 4,
 "nbformat_minor": 0
}