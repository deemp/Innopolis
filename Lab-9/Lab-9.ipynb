{
  "nbformat": 4,
  "nbformat_minor": 0,
  "metadata": {
    "colab": {
      "name": "TorchTut.ipynb",
      "provenance": [],
      "collapsed_sections": []
    },
    "kernelspec": {
      "name": "python3",
      "display_name": "Python 3"
    },
    "language_info": {
      "name": "python"
    },
    "accelerator": "GPU",
    "widgets": {
      "application/vnd.jupyter.widget-state+json": {
        "be263ae9d65745f2988cb893b33687dc": {
          "model_module": "@jupyter-widgets/controls",
          "model_name": "HBoxModel",
          "model_module_version": "1.5.0",
          "state": {
            "_view_name": "HBoxView",
            "_dom_classes": [],
            "_model_name": "HBoxModel",
            "_view_module": "@jupyter-widgets/controls",
            "_model_module_version": "1.5.0",
            "_view_count": null,
            "_view_module_version": "1.5.0",
            "box_style": "",
            "layout": "IPY_MODEL_555c3bdba6cb49b0b8a7ef2838568174",
            "_model_module": "@jupyter-widgets/controls",
            "children": [
              "IPY_MODEL_a35b1fe70e0447b48345955082c096dd",
              "IPY_MODEL_2a24efabfdcf4fa6968a7760c4972bcd",
              "IPY_MODEL_d891180d19db4c5a9b4d828947f0e41f"
            ]
          }
        },
        "555c3bdba6cb49b0b8a7ef2838568174": {
          "model_module": "@jupyter-widgets/base",
          "model_name": "LayoutModel",
          "model_module_version": "1.2.0",
          "state": {
            "_view_name": "LayoutView",
            "grid_template_rows": null,
            "right": null,
            "justify_content": null,
            "_view_module": "@jupyter-widgets/base",
            "overflow": null,
            "_model_module_version": "1.2.0",
            "_view_count": null,
            "flex_flow": null,
            "width": null,
            "min_width": null,
            "border": null,
            "align_items": null,
            "bottom": null,
            "_model_module": "@jupyter-widgets/base",
            "top": null,
            "grid_column": null,
            "overflow_y": null,
            "overflow_x": null,
            "grid_auto_flow": null,
            "grid_area": null,
            "grid_template_columns": null,
            "flex": null,
            "_model_name": "LayoutModel",
            "justify_items": null,
            "grid_row": null,
            "max_height": null,
            "align_content": null,
            "visibility": null,
            "align_self": null,
            "height": null,
            "min_height": null,
            "padding": null,
            "grid_auto_rows": null,
            "grid_gap": null,
            "max_width": null,
            "order": null,
            "_view_module_version": "1.2.0",
            "grid_template_areas": null,
            "object_position": null,
            "object_fit": null,
            "grid_auto_columns": null,
            "margin": null,
            "display": null,
            "left": null
          }
        },
        "a35b1fe70e0447b48345955082c096dd": {
          "model_module": "@jupyter-widgets/controls",
          "model_name": "HTMLModel",
          "model_module_version": "1.5.0",
          "state": {
            "_view_name": "HTMLView",
            "style": "IPY_MODEL_baf30f07f0c344e58d7a4c1cae695493",
            "_dom_classes": [],
            "description": "",
            "_model_name": "HTMLModel",
            "placeholder": "​",
            "_view_module": "@jupyter-widgets/controls",
            "_model_module_version": "1.5.0",
            "value": "",
            "_view_count": null,
            "_view_module_version": "1.5.0",
            "description_tooltip": null,
            "_model_module": "@jupyter-widgets/controls",
            "layout": "IPY_MODEL_beae8fc2c7384cc8a82461242e2b4fb4"
          }
        },
        "2a24efabfdcf4fa6968a7760c4972bcd": {
          "model_module": "@jupyter-widgets/controls",
          "model_name": "FloatProgressModel",
          "model_module_version": "1.5.0",
          "state": {
            "_view_name": "ProgressView",
            "style": "IPY_MODEL_d6dc6202d3874ac28c74f93d99125c30",
            "_dom_classes": [],
            "description": "",
            "_model_name": "FloatProgressModel",
            "bar_style": "success",
            "max": 170498071,
            "_view_module": "@jupyter-widgets/controls",
            "_model_module_version": "1.5.0",
            "value": 170498071,
            "_view_count": null,
            "_view_module_version": "1.5.0",
            "orientation": "horizontal",
            "min": 0,
            "description_tooltip": null,
            "_model_module": "@jupyter-widgets/controls",
            "layout": "IPY_MODEL_bc5b5a82f864442faf4d6ff160653e33"
          }
        },
        "d891180d19db4c5a9b4d828947f0e41f": {
          "model_module": "@jupyter-widgets/controls",
          "model_name": "HTMLModel",
          "model_module_version": "1.5.0",
          "state": {
            "_view_name": "HTMLView",
            "style": "IPY_MODEL_4468ddbe26e046ac861ae25df54b4cf4",
            "_dom_classes": [],
            "description": "",
            "_model_name": "HTMLModel",
            "placeholder": "​",
            "_view_module": "@jupyter-widgets/controls",
            "_model_module_version": "1.5.0",
            "value": " 170499072/? [00:03&lt;00:00, 56098486.54it/s]",
            "_view_count": null,
            "_view_module_version": "1.5.0",
            "description_tooltip": null,
            "_model_module": "@jupyter-widgets/controls",
            "layout": "IPY_MODEL_f1a6975a6b6b4b7da2d64c8c9845284b"
          }
        },
        "baf30f07f0c344e58d7a4c1cae695493": {
          "model_module": "@jupyter-widgets/controls",
          "model_name": "DescriptionStyleModel",
          "model_module_version": "1.5.0",
          "state": {
            "_view_name": "StyleView",
            "_model_name": "DescriptionStyleModel",
            "description_width": "",
            "_view_module": "@jupyter-widgets/base",
            "_model_module_version": "1.5.0",
            "_view_count": null,
            "_view_module_version": "1.2.0",
            "_model_module": "@jupyter-widgets/controls"
          }
        },
        "beae8fc2c7384cc8a82461242e2b4fb4": {
          "model_module": "@jupyter-widgets/base",
          "model_name": "LayoutModel",
          "model_module_version": "1.2.0",
          "state": {
            "_view_name": "LayoutView",
            "grid_template_rows": null,
            "right": null,
            "justify_content": null,
            "_view_module": "@jupyter-widgets/base",
            "overflow": null,
            "_model_module_version": "1.2.0",
            "_view_count": null,
            "flex_flow": null,
            "width": null,
            "min_width": null,
            "border": null,
            "align_items": null,
            "bottom": null,
            "_model_module": "@jupyter-widgets/base",
            "top": null,
            "grid_column": null,
            "overflow_y": null,
            "overflow_x": null,
            "grid_auto_flow": null,
            "grid_area": null,
            "grid_template_columns": null,
            "flex": null,
            "_model_name": "LayoutModel",
            "justify_items": null,
            "grid_row": null,
            "max_height": null,
            "align_content": null,
            "visibility": null,
            "align_self": null,
            "height": null,
            "min_height": null,
            "padding": null,
            "grid_auto_rows": null,
            "grid_gap": null,
            "max_width": null,
            "order": null,
            "_view_module_version": "1.2.0",
            "grid_template_areas": null,
            "object_position": null,
            "object_fit": null,
            "grid_auto_columns": null,
            "margin": null,
            "display": null,
            "left": null
          }
        },
        "d6dc6202d3874ac28c74f93d99125c30": {
          "model_module": "@jupyter-widgets/controls",
          "model_name": "ProgressStyleModel",
          "model_module_version": "1.5.0",
          "state": {
            "_view_name": "StyleView",
            "_model_name": "ProgressStyleModel",
            "description_width": "",
            "_view_module": "@jupyter-widgets/base",
            "_model_module_version": "1.5.0",
            "_view_count": null,
            "_view_module_version": "1.2.0",
            "bar_color": null,
            "_model_module": "@jupyter-widgets/controls"
          }
        },
        "bc5b5a82f864442faf4d6ff160653e33": {
          "model_module": "@jupyter-widgets/base",
          "model_name": "LayoutModel",
          "model_module_version": "1.2.0",
          "state": {
            "_view_name": "LayoutView",
            "grid_template_rows": null,
            "right": null,
            "justify_content": null,
            "_view_module": "@jupyter-widgets/base",
            "overflow": null,
            "_model_module_version": "1.2.0",
            "_view_count": null,
            "flex_flow": null,
            "width": null,
            "min_width": null,
            "border": null,
            "align_items": null,
            "bottom": null,
            "_model_module": "@jupyter-widgets/base",
            "top": null,
            "grid_column": null,
            "overflow_y": null,
            "overflow_x": null,
            "grid_auto_flow": null,
            "grid_area": null,
            "grid_template_columns": null,
            "flex": null,
            "_model_name": "LayoutModel",
            "justify_items": null,
            "grid_row": null,
            "max_height": null,
            "align_content": null,
            "visibility": null,
            "align_self": null,
            "height": null,
            "min_height": null,
            "padding": null,
            "grid_auto_rows": null,
            "grid_gap": null,
            "max_width": null,
            "order": null,
            "_view_module_version": "1.2.0",
            "grid_template_areas": null,
            "object_position": null,
            "object_fit": null,
            "grid_auto_columns": null,
            "margin": null,
            "display": null,
            "left": null
          }
        },
        "4468ddbe26e046ac861ae25df54b4cf4": {
          "model_module": "@jupyter-widgets/controls",
          "model_name": "DescriptionStyleModel",
          "model_module_version": "1.5.0",
          "state": {
            "_view_name": "StyleView",
            "_model_name": "DescriptionStyleModel",
            "description_width": "",
            "_view_module": "@jupyter-widgets/base",
            "_model_module_version": "1.5.0",
            "_view_count": null,
            "_view_module_version": "1.2.0",
            "_model_module": "@jupyter-widgets/controls"
          }
        },
        "f1a6975a6b6b4b7da2d64c8c9845284b": {
          "model_module": "@jupyter-widgets/base",
          "model_name": "LayoutModel",
          "model_module_version": "1.2.0",
          "state": {
            "_view_name": "LayoutView",
            "grid_template_rows": null,
            "right": null,
            "justify_content": null,
            "_view_module": "@jupyter-widgets/base",
            "overflow": null,
            "_model_module_version": "1.2.0",
            "_view_count": null,
            "flex_flow": null,
            "width": null,
            "min_width": null,
            "border": null,
            "align_items": null,
            "bottom": null,
            "_model_module": "@jupyter-widgets/base",
            "top": null,
            "grid_column": null,
            "overflow_y": null,
            "overflow_x": null,
            "grid_auto_flow": null,
            "grid_area": null,
            "grid_template_columns": null,
            "flex": null,
            "_model_name": "LayoutModel",
            "justify_items": null,
            "grid_row": null,
            "max_height": null,
            "align_content": null,
            "visibility": null,
            "align_self": null,
            "height": null,
            "min_height": null,
            "padding": null,
            "grid_auto_rows": null,
            "grid_gap": null,
            "max_width": null,
            "order": null,
            "_view_module_version": "1.2.0",
            "grid_template_areas": null,
            "object_position": null,
            "object_fit": null,
            "grid_auto_columns": null,
            "margin": null,
            "display": null,
            "left": null
          }
        }
      }
    }
  },
  "cells": [
    {
      "cell_type": "markdown",
      "metadata": {
        "id": "UccsLrIDSuJF"
      },
      "source": [
        "### PyTorch Tutorial\n",
        "```\n",
        "- Machine Learning, Innopolis University \n",
        "- Professor: Adil Khan \n",
        "- Teaching Assistant: Gcinizwe Dlamini\n",
        "```\n",
        "<hr>\n",
        "\n"
      ]
    },
    {
      "cell_type": "markdown",
      "metadata": {
        "id": "H3dO6a6ce0E3"
      },
      "source": [
        "## <center> Linear Regression with Numpy<center>"
      ]
    },
    {
      "cell_type": "code",
      "metadata": {
        "id": "4He13qC7StI6"
      },
      "source": [
        "import numpy as np\n",
        "from matplotlib import pyplot as plt \n",
        "np.random.seed(73)"
      ],
      "execution_count": 7,
      "outputs": []
    },
    {
      "cell_type": "markdown",
      "metadata": {
        "id": "cB1XeGRfWzwL"
      },
      "source": [
        "### Data Generation"
      ]
    },
    {
      "cell_type": "code",
      "metadata": {
        "id": "8nnkrnzMJMRW"
      },
      "source": [
        "# Data Generation\n",
        "def generate_data(size = 100):\n",
        "  x = np.random.rand(size, 1)\n",
        "  y = 3 + 2.5 * x + .1 * np.random.randn(size, 1)\n",
        "\n",
        "  # Shuffles the indices\n",
        "  idx = np.arange(size)\n",
        "  np.random.shuffle(idx)\n",
        "\n",
        "  # split to train and validation 80:20\n",
        "  split = int(size * 0.8)\n",
        "  train_idx = idx[:split]\n",
        "  val_idx = idx[split:]\n",
        "\n",
        "  # Generate train and validation sets\n",
        "  x_train, y_train = x[train_idx], y[train_idx]\n",
        "  x_val, y_val = x[val_idx], y[val_idx]\n",
        "\n",
        "  return x_train, y_train, x_val, y_val"
      ],
      "execution_count": 9,
      "outputs": []
    },
    {
      "cell_type": "code",
      "metadata": {
        "colab": {
          "base_uri": "https://localhost:8080/",
          "height": 295
        },
        "id": "FN5dKNZGW6BA",
        "outputId": "92e25cd6-07c3-4808-f6de-e69e857dd782"
      },
      "source": [
        "x_train, y_train, x_val, y_val = generate_data()\n",
        "plt.scatter(x_train, y_train)\n",
        "plt.xlabel(\"X\")\n",
        "plt.ylabel(\"Y\")\n",
        "plt.title(\"Title\")\n",
        "plt.show()"
      ],
      "execution_count": 10,
      "outputs": [
        {
          "output_type": "display_data",
          "data": {
            "image/png": "[encoded data removed]",
            "text/plain": [
              "<Figure size 432x288 with 1 Axes>"
            ]
          },
          "metadata": {
            "needs_background": "light"
          }
        }
      ]
    },
    {
      "cell_type": "markdown",
      "metadata": {
        "id": "OTVz4pV6XjXm"
      },
      "source": [
        "## Gradient Descent\n",
        "\n",
        "Gradient descent consist of 3 basic steps : \n",
        "\n",
        "1. **Compute the Loss**\n",
        "\n",
        "$$ \\hat{y} = a + bx + \\epsilon $$\n",
        "\n",
        "$$ \\text{MSE} = \\frac{1}{N} \\sum_{i} (y_i - \\hat{y}_i)^2 $$\n",
        "\n",
        "$$ \\text{MSE} = \\frac{1}{N} \\sum_{i} (y_i - a - bx_i)^2 $$\n",
        "\n",
        "2. **Compute the Gradients** : A gradient is a partial derivative. Using the chain rule the final expression came to be : \n",
        "\n",
        "$$\\frac{\\partial \\text{MSE}}{\\partial a} = \\frac{\\partial \\text{MSE}}{\\partial \\hat{y}} * \\frac{\\partial \\hat{y}}{\\partial a} = -2 * \\frac{1}{N} \\sum_{i} (y_i - \\hat{y}_i)$$\n",
        "\n",
        "$$\\frac{\\partial \\text{MSE}}{\\partial b} = \\frac{\\partial \\text{MSE}}{\\partial \\hat{y}} * \\frac{\\partial \\hat{y}}{\\partial b} = -2 * \\frac{1}{N} \\sum_{i} x_i(y_i - \\hat{y}_i)$$\n",
        "\n",
        "3. **Update the Parameters**\n",
        "\n",
        "$$a = a - \\alpha \\frac{\\partial \\text{MSE}}{\\partial a}$$\n",
        "\n",
        "$$b = b - \\alpha \\frac{\\partial \\text{MSE}}{\\partial b}$$\n",
        "\n",
        "4. Repeat step 1 to 3 till convergence is reached"
      ]
    },
    {
      "cell_type": "code",
      "metadata": {
        "colab": {
          "base_uri": "https://localhost:8080/"
        },
        "id": "S2EX120SXSid",
        "outputId": "4f132f99-ac4d-47e0-d07f-6076a38348b6"
      },
      "source": [
        "# Initializes parameters \"a\" and \"b\" randomly\n",
        "\n",
        "a = np.random.randn(1)\n",
        "b = np.random.randn(1)\n",
        "\n",
        "print(f\"Initial values of [a, b] : [{a[0]}, {b[0]}]\")\n",
        "\n",
        "learning_rate = 1e-1 #learning rate\n",
        "n_epochs = 1000\n",
        "\n",
        "for epoch in range(n_epochs):\n",
        "  \n",
        "  # Step 1: Computes y hat\n",
        "  yhat = a + b * x_train\n",
        "  \n",
        "  # Compute error and Loss using MSE \n",
        "  error = (y_train - yhat)\n",
        "  loss = (error ** 2).mean()\n",
        "  \n",
        "  # Step 2: Compute gradients for both \"a\" and \"b\" parameters (partial derivatives)\n",
        "  a_grad = -2 * error.mean()\n",
        "  b_grad = -2 * (x_train * error).mean()\n",
        "  \n",
        "  # Step 3: Update parameters using gradients and the learning rate\n",
        "  a = a - learning_rate * a_grad\n",
        "  b = b - learning_rate * b_grad\n",
        "    \n",
        "print(f\"Final values of [a, b] : [{a[0]}, {b[0]}]\")"
      ],
      "execution_count": null,
      "outputs": [
        {
          "output_type": "stream",
          "name": "stdout",
          "text": [
            "Initial values of [a, b] : [-1.389528167189103, 1.2528595392468875]\n",
            "Final values of [a, b] : [2.9818223574919154, 2.506904792435268]\n"
          ]
        }
      ]
    },
    {
      "cell_type": "markdown",
      "metadata": {
        "id": "hE4yi8zQZNXx"
      },
      "source": [
        "## PyTorch implementation\n",
        "\n",
        "1. Simple model using nn.Sequential(..)\n",
        "1. Read input data from file \n",
        "1. Add Tensorboard\n",
        "1. Transfer Learning"
      ]
    },
    {
      "cell_type": "code",
      "metadata": {
        "id": "ulrawONrZUHp"
      },
      "source": [
        "import torch \n",
        "from torch import nn\n",
        "import torch.optim as optim # for optimizer\n",
        "from torch.utils.tensorboard import SummaryWriter #for Tensorboard"
      ],
      "execution_count": 1,
      "outputs": []
    },
    {
      "cell_type": "code",
      "metadata": {
        "colab": {
          "base_uri": "https://localhost:8080/"
        },
        "id": "xd9X_BFbZy6M",
        "outputId": "a9a3e014-1cd1-4b76-c855-ebc95ae586aa"
      },
      "source": [
        "class LinearRegression(nn.Module):\n",
        "  def __init__(self,input_dim=1,output_dim=1):\n",
        "    super(LinearRegression, self).__init__()\n",
        "    self.layer1 = nn.Linear(input_dim, output_dim)\n",
        "  def forward(self, x):\n",
        "    x = self.layer1(x)\n",
        "    return x\n",
        "\n",
        "model1 = nn.Sequential(nn.Linear(1, 1)).double()\n",
        "model2 = LinearRegression(1,1).double()\n",
        "model3 = nn.Linear(1, 1).double()\n",
        "print(model1)\n",
        "print(model2)\n",
        "print(model3)"
      ],
      "execution_count": 3,
      "outputs": [
        {
          "output_type": "stream",
          "name": "stdout",
          "text": [
            "Sequential(\n",
            "  (0): Linear(in_features=1, out_features=1, bias=True)\n",
            ")\n",
            "LinearRegression(\n",
            "  (layer1): Linear(in_features=1, out_features=1, bias=True)\n",
            ")\n",
            "Linear(in_features=1, out_features=1, bias=True)\n"
          ]
        }
      ]
    },
    {
      "cell_type": "code",
      "metadata": {
        "colab": {
          "base_uri": "https://localhost:8080/"
        },
        "id": "5Cxq68iZdylI",
        "outputId": "9f48bc61-3a30-4698-8837-2e7fbbb7e770"
      },
      "source": [
        "print(model2.layer1.weight.item())\n",
        "print(model1[0].weight.item())\n",
        "print(model3.weight.item())"
      ],
      "execution_count": 4,
      "outputs": [
        {
          "output_type": "stream",
          "name": "stdout",
          "text": [
            "-0.9082623720169067\n",
            "0.7466845512390137\n",
            "-0.3969125747680664\n"
          ]
        }
      ]
    },
    {
      "cell_type": "code",
      "metadata": {
        "colab": {
          "base_uri": "https://localhost:8080/",
          "height": 232
        },
        "id": "kcXN29j1gcMu",
        "outputId": "c4229539-447c-4e6a-eb6a-394fbdfc27c6"
      },
      "source": [
        "a = model1(torch.from_numpy(x_train))\n",
        "error = (torch.from_numpy(y_train) - a)\n",
        "loss = (error ** 2).mean()\n",
        "loss.backward()\n",
        "model1[0].weight.grad"
      ],
      "execution_count": 5,
      "outputs": [
        {
          "output_type": "error",
          "ename": "NameError",
          "evalue": "ignored",
          "traceback": [
            "\u001b[0;31m---------------------------------------------------------------------------\u001b[0m",
            "\u001b[0;31mNameError\u001b[0m                                 Traceback (most recent call last)",
            "\u001b[0;32m<ipython-input-5-eb97c854f8d8>\u001b[0m in \u001b[0;36m<module>\u001b[0;34m()\u001b[0m\n\u001b[0;32m----> 1\u001b[0;31m \u001b[0ma\u001b[0m \u001b[0;34m=\u001b[0m \u001b[0mmodel1\u001b[0m\u001b[0;34m(\u001b[0m\u001b[0mtorch\u001b[0m\u001b[0;34m.\u001b[0m\u001b[0mfrom_numpy\u001b[0m\u001b[0;34m(\u001b[0m\u001b[0mx_train\u001b[0m\u001b[0;34m)\u001b[0m\u001b[0;34m)\u001b[0m\u001b[0;34m\u001b[0m\u001b[0;34m\u001b[0m\u001b[0m\n\u001b[0m\u001b[1;32m      2\u001b[0m \u001b[0merror\u001b[0m \u001b[0;34m=\u001b[0m \u001b[0;34m(\u001b[0m\u001b[0mtorch\u001b[0m\u001b[0;34m.\u001b[0m\u001b[0mfrom_numpy\u001b[0m\u001b[0;34m(\u001b[0m\u001b[0my_train\u001b[0m\u001b[0;34m)\u001b[0m \u001b[0;34m-\u001b[0m \u001b[0ma\u001b[0m\u001b[0;34m)\u001b[0m\u001b[0;34m\u001b[0m\u001b[0;34m\u001b[0m\u001b[0m\n\u001b[1;32m      3\u001b[0m \u001b[0mloss\u001b[0m \u001b[0;34m=\u001b[0m \u001b[0;34m(\u001b[0m\u001b[0merror\u001b[0m \u001b[0;34m**\u001b[0m \u001b[0;36m2\u001b[0m\u001b[0;34m)\u001b[0m\u001b[0;34m.\u001b[0m\u001b[0mmean\u001b[0m\u001b[0;34m(\u001b[0m\u001b[0;34m)\u001b[0m\u001b[0;34m\u001b[0m\u001b[0;34m\u001b[0m\u001b[0m\n\u001b[1;32m      4\u001b[0m \u001b[0mloss\u001b[0m\u001b[0;34m.\u001b[0m\u001b[0mbackward\u001b[0m\u001b[0;34m(\u001b[0m\u001b[0;34m)\u001b[0m\u001b[0;34m\u001b[0m\u001b[0;34m\u001b[0m\u001b[0m\n\u001b[1;32m      5\u001b[0m \u001b[0mmodel1\u001b[0m\u001b[0;34m[\u001b[0m\u001b[0;36m0\u001b[0m\u001b[0;34m]\u001b[0m\u001b[0;34m.\u001b[0m\u001b[0mweight\u001b[0m\u001b[0;34m.\u001b[0m\u001b[0mgrad\u001b[0m\u001b[0;34m\u001b[0m\u001b[0;34m\u001b[0m\u001b[0m\n",
            "\u001b[0;31mNameError\u001b[0m: name 'x_train' is not defined"
          ]
        }
      ]
    },
    {
      "cell_type": "code",
      "metadata": {
        "colab": {
          "base_uri": "https://localhost:8080/"
        },
        "id": "5Oso-Weyh5q7",
        "outputId": "783d58f1-ae76-43da-de0d-6877ffc7ccc8"
      },
      "source": [
        "a = model1(torch.from_numpy(x_train))\n",
        "error = (torch.from_numpy(y_train) - a)\n",
        "loss = (error ** 2).mean()\n",
        "loss.backward()\n",
        "model1[0].weight.grad"
      ],
      "execution_count": null,
      "outputs": [
        {
          "output_type": "execute_result",
          "data": {
            "text/plain": [
              "tensor([[-10.3959]], dtype=torch.float64)"
            ]
          },
          "metadata": {},
          "execution_count": 9
        }
      ]
    },
    {
      "cell_type": "code",
      "metadata": {
        "colab": {
          "base_uri": "https://localhost:8080/"
        },
        "id": "5ON6PrKzi7tA",
        "outputId": "617404d7-0871-4728-a223-147603397a8b"
      },
      "source": [
        "model1[0].weight.grad"
      ],
      "execution_count": null,
      "outputs": [
        {
          "output_type": "execute_result",
          "data": {
            "text/plain": [
              "tensor([[-10.3959]], dtype=torch.float64)"
            ]
          },
          "metadata": {},
          "execution_count": 10
        }
      ]
    },
    {
      "cell_type": "code",
      "metadata": {
        "colab": {
          "base_uri": "https://localhost:8080/"
        },
        "id": "JIb28_25hvp_",
        "outputId": "820b474f-0614-475e-c0ac-e52da24601b5"
      },
      "source": [
        "model1[0].weight"
      ],
      "execution_count": null,
      "outputs": [
        {
          "output_type": "execute_result",
          "data": {
            "text/plain": [
              "Parameter containing:\n",
              "tensor([[-0.3180]], dtype=torch.float64, requires_grad=True)"
            ]
          },
          "metadata": {},
          "execution_count": 11
        }
      ]
    },
    {
      "cell_type": "code",
      "metadata": {
        "id": "ZwDOMzr0iocO"
      },
      "source": [
        "lr = 1e-1\n",
        "n_epochs = 100\n",
        "loss_fn = nn.MSELoss(reduction='mean')\n",
        "optimizer = optim.SGD(model1.parameters(), lr=lr)"
      ],
      "execution_count": null,
      "outputs": []
    },
    {
      "cell_type": "code",
      "metadata": {
        "id": "m-z2Q1tIi3HP"
      },
      "source": [
        "optimizer.step()"
      ],
      "execution_count": null,
      "outputs": []
    },
    {
      "cell_type": "code",
      "metadata": {
        "id": "TxbboiM4jA0q"
      },
      "source": [
        "optimizer.zero_grad()"
      ],
      "execution_count": null,
      "outputs": []
    },
    {
      "cell_type": "markdown",
      "metadata": {
        "id": "9pwi1O6ORQRN"
      },
      "source": [
        "## Transfer Learning"
      ]
    },
    {
      "cell_type": "code",
      "metadata": {
        "id": "dYXofjA5du1h"
      },
      "source": [
        "import torch\n",
        "import torchvision\n",
        "import torchvision.transforms as transforms\n",
        "import torch.nn as nn\n",
        "import torch.nn.functional as F\n",
        "import torch.optim as optim\n",
        "from torch. utils.data import DataLoader\n"
      ],
      "execution_count": null,
      "outputs": []
    },
    {
      "cell_type": "markdown",
      "metadata": {
        "id": "IpjxeNVriTOt"
      },
      "source": [
        "### Read Data from local Folder"
      ]
    },
    {
      "cell_type": "code",
      "metadata": {
        "colab": {
          "base_uri": "https://localhost:8080/"
        },
        "id": "wN5rI2KibiWt",
        "outputId": "80c13b52-68dc-4972-d1b6-55583fdaa6ad"
      },
      "source": [
        "!git clone https://github.com/YoongiKim/CIFAR-10-images.git"
      ],
      "execution_count": null,
      "outputs": [
        {
          "output_type": "stream",
          "name": "stdout",
          "text": [
            "Cloning into 'CIFAR-10-images'...\n",
            "remote: Enumerating objects: 60027, done.\u001b[K\n",
            "remote: Total 60027 (delta 0), reused 0 (delta 0), pack-reused 60027\u001b[K\n",
            "Receiving objects: 100% (60027/60027), 19.94 MiB | 34.90 MiB/s, done.\n",
            "Resolving deltas: 100% (59990/59990), done.\n",
            "Checking out files: 100% (60001/60001), done.\n"
          ]
        }
      ]
    },
    {
      "cell_type": "code",
      "metadata": {
        "id": "UfhcBBqtff-p"
      },
      "source": [
        "transform = transforms.Compose( [transforms.ToTensor(), transforms.Normalize((0.5, 0.5, 0.5), (0.5, 0.5, 0.5))])\n",
        "\n",
        "trainset = torchvision.datasets.ImageFolder(root='/content/CIFAR-10-images/train', transform=transform)\n",
        "trainloader = trainloader = torch.utils.data.DataLoader(trainset, batch_size=4, shuffle=True, num_workers=2)\n",
        "\n",
        "testset = torchvision.datasets.ImageFolder(root='/content/CIFAR-10-images/test', transform=transform)\n",
        "testloader = torch.utils.data.DataLoader(testset, batch_size=4, shuffle=False, num_workers=2)"
      ],
      "execution_count": null,
      "outputs": []
    },
    {
      "cell_type": "markdown",
      "metadata": {
        "id": "I0stBvUz5Bv-"
      },
      "source": [
        "## Create a CNN Model, Train and Test"
      ]
    },
    {
      "cell_type": "code",
      "metadata": {
        "id": "rEO18g00j37t"
      },
      "source": [
        "def train(model, device, train_loader, optimizer, criterion):\n",
        "    model.train()\n",
        "    tot_loss = 0.0\n",
        "\n",
        "    for batch_idx, (data, target) in enumerate(train_loader):\n",
        "      data, target = data.to(device), target.to(device)\n",
        "      optimizer.zero_grad()\n",
        "      output = model(data)\n",
        "      loss = criterion(output, target)\n",
        "      tot_loss += loss.item()\n",
        "      loss.backward()\n",
        "      optimizer.step()\n",
        "\n",
        "    return tot_loss/len(train_loader)\n",
        "            \n",
        "def test(model, device, test_loader, criterion):\n",
        "  model.eval()\n",
        "  correct = 0\n",
        "  total = 0\n",
        "  with torch.no_grad():\n",
        "    for data in testloader:\n",
        "      images, labels = data\n",
        "      images, labels = images.to(device), labels.to(device)\n",
        "      outputs = model(images)\n",
        "      _, predicted = torch.max(outputs.data, 1)\n",
        "      total += labels.size(0)\n",
        "      correct += (predicted == labels).sum().item()\n",
        "  \n",
        "  return correct / total\n"
      ],
      "execution_count": null,
      "outputs": []
    },
    {
      "cell_type": "code",
      "metadata": {
        "id": "8C99RveBmV0K"
      },
      "source": [
        "class Net(nn.Module):\n",
        "  def __init__(self):\n",
        "    super(Net, self).__init__()\n",
        "    self.conv1 = nn.Conv2d(3, 6, 5)\n",
        "    self.pool = nn.MaxPool2d(2, 2)\n",
        "    self.conv2 = nn.Conv2d(6, 16, 5)\n",
        "    self.fc1 = nn.Linear(16 * 5 * 5, 120)\n",
        "    self.fc2 = nn.Linear(120, 84)\n",
        "    self.fc3 = nn.Linear(84, 10)\n",
        "\n",
        "  def forward(self, x):\n",
        "    x = self.pool(F.relu(self.conv1(x)))\n",
        "    x = self.pool(F.relu(self.conv2(x)))\n",
        "    x = x.view(-1, 16 * 5 * 5)\n",
        "    x = F.relu(self.fc1(x))\n",
        "    x = F.relu(self.fc2(x))\n",
        "    x = self.fc3(x)\n",
        "    return x\n",
        "\n",
        "use_cuda = torch.cuda.is_available()\n",
        "device = torch.device(\"cuda\" if use_cuda else \"cpu\")\n",
        "model_cnn = Net().to(device)"
      ],
      "execution_count": null,
      "outputs": []
    },
    {
      "cell_type": "code",
      "metadata": {
        "colab": {
          "base_uri": "https://localhost:8080/"
        },
        "id": "xemrnknzqEDs",
        "outputId": "73bdadc8-9452-479a-e6e5-8905890ea7e7"
      },
      "source": [
        "model_cnn"
      ],
      "execution_count": null,
      "outputs": [
        {
          "output_type": "execute_result",
          "data": {
            "text/plain": [
              "Net(\n",
              "  (conv1): Conv2d(3, 6, kernel_size=(5, 5), stride=(1, 1))\n",
              "  (pool): MaxPool2d(kernel_size=2, stride=2, padding=0, dilation=1, ceil_mode=False)\n",
              "  (conv2): Conv2d(6, 16, kernel_size=(5, 5), stride=(1, 1))\n",
              "  (fc1): Linear(in_features=400, out_features=120, bias=True)\n",
              "  (fc2): Linear(in_features=120, out_features=84, bias=True)\n",
              "  (fc3): Linear(in_features=84, out_features=10, bias=True)\n",
              ")"
            ]
          },
          "metadata": {},
          "execution_count": 20
        }
      ]
    },
    {
      "cell_type": "code",
      "metadata": {
        "colab": {
          "base_uri": "https://localhost:8080/"
        },
        "id": "P6PfXGsqm9u3",
        "outputId": "c76dee1a-b457-4645-ff87-7258232f9a7a"
      },
      "source": [
        "epochs = 5\n",
        "lr=0.001\n",
        "momentum=0.9\n",
        "criterion = nn.CrossEntropyLoss()\n",
        "\n",
        "# training CNN model\n",
        "optimizer = optim.SGD(model_cnn.parameters(), lr=lr, momentum=momentum)\n",
        "\n",
        "for epoch in range(1, epochs + 1):\n",
        "  t_loss = train(model_cnn, device, trainloader, optimizer, criterion)\n",
        "  acc = test(model_cnn, device, testloader, criterion)\n",
        "  break\n",
        "\n",
        "print(acc)\n",
        "\n"
      ],
      "execution_count": null,
      "outputs": [
        {
          "output_type": "stream",
          "name": "stderr",
          "text": [
            "/usr/local/lib/python3.7/dist-packages/torch/nn/functional.py:718: UserWarning: Named tensors and all their associated APIs are an experimental feature and subject to change. Please do not use them for anything important until they are released as stable. (Triggered internally at  /pytorch/c10/core/TensorImpl.h:1156.)\n",
            "  return torch.max_pool2d(input, kernel_size, stride, padding, dilation, ceil_mode)\n"
          ]
        },
        {
          "output_type": "stream",
          "name": "stdout",
          "text": [
            "0.4681\n"
          ]
        }
      ]
    },
    {
      "cell_type": "markdown",
      "metadata": {
        "id": "It92gozt9HSX"
      },
      "source": [
        "## Add TensorBoard"
      ]
    },
    {
      "cell_type": "code",
      "metadata": {
        "id": "WKQfL1hk9Gux"
      },
      "source": [
        "# Load the TensorBoard notebook extension\n",
        "%load_ext tensorboard\n",
        "\n",
        "from torch.utils.tensorboard import SummaryWriter\n",
        "\n",
        "writer = SummaryWriter()"
      ],
      "execution_count": null,
      "outputs": []
    },
    {
      "cell_type": "code",
      "metadata": {
        "id": "tx2-H8WD-dlm"
      },
      "source": [
        "# training CNN model\n",
        "model_cnn = Net().to(device)\n",
        "optimizer = optim.SGD(model_cnn.parameters(), lr=lr, momentum=momentum)\n",
        "epochs = 5\n",
        "for epoch in range(1, epochs + 1):\n",
        "    t_loss = train(model_cnn, device, trainloader, optimizer, criterion)\n",
        "    acc = test(model_cnn, device, testloader, criterion)\n",
        "\n",
        "    writer.add_scalar(\"train_loss\", t_loss, epoch)\n",
        "    writer.add_scalar(\"test_acc\", acc, epoch)\n",
        "\n",
        "    for tag, parm in model_cnn.named_parameters():\n",
        "        writer.add_histogram(tag, parm.grad.data.cpu().numpy(), epoch)"
      ],
      "execution_count": null,
      "outputs": []
    },
    {
      "cell_type": "code",
      "metadata": {
        "id": "zE5KC8yaDbnN"
      },
      "source": [
        "# %tensorboard --logdir runs/"
      ],
      "execution_count": null,
      "outputs": []
    },
    {
      "cell_type": "markdown",
      "metadata": {
        "id": "rBIrsrBe5XzN"
      },
      "source": [
        "## Use pretrained Models"
      ]
    },
    {
      "cell_type": "code",
      "metadata": {
        "id": "Mz5ftjMt5XdP"
      },
      "source": [
        "import torchvision.models as models\n",
        "writer = SummaryWriter()\n",
        "\n",
        "# resnet18 = models.resnet18(pretrained=True,progress=True)\n",
        "# alexnet = models.alexnet(pretrained=True,progress=True)\n",
        "# squeezenet = models.squeezenet1_0(pretrained=True,progress=True)\n",
        "# vgg16 = models.vgg16(pretrained=True,progress=True)"
      ],
      "execution_count": null,
      "outputs": []
    },
    {
      "cell_type": "code",
      "metadata": {
        "colab": {
          "base_uri": "https://localhost:8080/",
          "height": 100,
          "referenced_widgets": [
            "be263ae9d65745f2988cb893b33687dc",
            "555c3bdba6cb49b0b8a7ef2838568174",
            "a35b1fe70e0447b48345955082c096dd",
            "2a24efabfdcf4fa6968a7760c4972bcd",
            "d891180d19db4c5a9b4d828947f0e41f",
            "baf30f07f0c344e58d7a4c1cae695493",
            "beae8fc2c7384cc8a82461242e2b4fb4",
            "d6dc6202d3874ac28c74f93d99125c30",
            "bc5b5a82f864442faf4d6ff160653e33",
            "4468ddbe26e046ac861ae25df54b4cf4",
            "f1a6975a6b6b4b7da2d64c8c9845284b"
          ]
        },
        "id": "7N9_N4HAJGJQ",
        "outputId": "2534bfb6-b3a1-4902-f40b-7a7b3c63c39c"
      },
      "source": [
        "transform = transforms.Compose(\n",
        "    [transforms.Resize((256,256)),\n",
        "     transforms.ToTensor(),\n",
        "     transforms.Normalize((0.5, 0.5, 0.5), (0.5, 0.5, 0.5))])\n",
        "\n",
        "trainset = torchvision.datasets.CIFAR10(root='./data', train=True,\n",
        "                                        download=True, transform=transform)\n",
        "trainloader = torch.utils.data.DataLoader(trainset, batch_size=4,\n",
        "                                          shuffle=True, num_workers=2)\n",
        "\n",
        "testset = torchvision.datasets.CIFAR10(root='./data', train=False,\n",
        "                                       download=True, transform=transform)\n",
        "testloader = torch.utils.data.DataLoader(testset, batch_size=4,\n",
        "                                         shuffle=False, num_workers=2)"
      ],
      "execution_count": null,
      "outputs": [
        {
          "output_type": "stream",
          "name": "stdout",
          "text": [
            "Downloading https://www.cs.toronto.edu/~kriz/cifar-10-python.tar.gz to ./data/cifar-10-python.tar.gz\n"
          ]
        },
        {
          "output_type": "display_data",
          "data": {
            "application/vnd.jupyter.widget-view+json": {
              "model_id": "be263ae9d65745f2988cb893b33687dc",
              "version_minor": 0,
              "version_major": 2
            },
            "text/plain": [
              "  0%|          | 0/170498071 [00:00<?, ?it/s]"
            ]
          },
          "metadata": {}
        },
        {
          "output_type": "stream",
          "name": "stdout",
          "text": [
            "Extracting ./data/cifar-10-python.tar.gz to ./data\n",
            "Files already downloaded and verified\n"
          ]
        }
      ]
    },
    {
      "cell_type": "code",
      "metadata": {
        "id": "DvEAx_-j5wDI"
      },
      "source": [
        "class PretrainedNet(nn.Module):\n",
        "  def __init__(self):\n",
        "    super(PretrainedNet, self).__init__()\n",
        "    self.net = models.resnet18(pretrained=True,progress=True)\n",
        "    self.net.trainable = False\n",
        "    self.net.fc = nn.Linear(512, 10)\n",
        "\n",
        "  def forward(self, x):\n",
        "    return self.net(x)\n",
        "\n",
        "use_cuda = torch.cuda.is_available()\n",
        "device = torch.device(\"cuda\" if use_cuda else \"cpu\")"
      ],
      "execution_count": null,
      "outputs": []
    },
    {
      "cell_type": "markdown",
      "metadata": {
        "id": "mYnIs0vbbb2z"
      },
      "source": [
        "### Define Train and Test step"
      ]
    },
    {
      "cell_type": "code",
      "metadata": {
        "id": "2T9sHTgSbbkf"
      },
      "source": [
        "def train(model, device, train_loader, optimizer, criterion):\n",
        "    model.train()\n",
        "    tot_loss = 0.0\n",
        "    for batch_idx, (data, target) in enumerate(train_loader):\n",
        "        data, target = data.to(device), target.to(device)\n",
        "        optimizer.zero_grad()\n",
        "        output = model(data)\n",
        "        loss = criterion(output, target)\n",
        "        tot_loss += loss.item()\n",
        "        loss.backward()\n",
        "        optimizer.step()\n",
        "\n",
        "    return tot_loss/len(train_loader)\n",
        "            \n",
        "def test( model, device, test_loader):\n",
        "  model.eval()\n",
        "  correct = 0\n",
        "  total = 0\n",
        "  with torch.no_grad():\n",
        "    for data in testloader:\n",
        "      images, labels = data\n",
        "      images, labels = images.to(device), labels.to(device)\n",
        "\n",
        "      outputs = model(images)\n",
        "      loss = nn.CrossEntropyLoss()(outputs, labels)\n",
        "      _, predicted = torch.max(outputs.data, 1)\n",
        "      total += labels.size(0)\n",
        "      correct += (predicted == labels).sum().item()\n",
        "\n",
        "  return correct / total"
      ],
      "execution_count": null,
      "outputs": []
    },
    {
      "cell_type": "markdown",
      "metadata": {
        "id": "sgzgJDEWacqF"
      },
      "source": [
        "### Define model and parameters"
      ]
    },
    {
      "cell_type": "code",
      "metadata": {
        "id": "Qf1C-5XZacJq"
      },
      "source": [
        "model_pretrained = PretrainedNet().to(device)\n",
        "optimizer = optim.SGD(model_pretrained.parameters(), lr=0.001, momentum=0.9)\n",
        "epochs = 5\n",
        "criterion = nn.CrossEntropyLoss()"
      ],
      "execution_count": null,
      "outputs": []
    },
    {
      "cell_type": "markdown",
      "metadata": {
        "id": "ehGOkwjRai3h"
      },
      "source": [
        "### Training Loop"
      ]
    },
    {
      "cell_type": "code",
      "metadata": {
        "collapsed": true,
        "id": "eAZCLxmKEb7g"
      },
      "source": [
        "for epoch in range(1, epochs + 1):\n",
        "  t_loss = train(model_pretrained, device, trainloader, optimizer, criterion)\n",
        "  acc = test(model_pretrained, device, testloader)\n",
        "\n",
        "  writer.add_scalar(\"train_loss\", t_loss, epoch)\n",
        "  writer.add_scalar(\"test_acc\", acc, epoch)\n",
        "\n",
        "  for tag, parm in model_pretrained.named_parameters():\n",
        "    writer.add_histogram(tag, parm.grad.data.cpu().numpy(), epoch)"
      ],
      "execution_count": null,
      "outputs": []
    },
    {
      "cell_type": "markdown",
      "metadata": {
        "id": "SmQcACIPeueG"
      },
      "source": [
        "## <center> PyTorch Basics<center>"
      ]
    },
    {
      "cell_type": "markdown",
      "metadata": {
        "id": "nIBkMQyGB7O6"
      },
      "source": [
        "### Tensors \n",
        "\n",
        "* How to create a Tensor\n",
        "* Operations on tensors\n",
        "* Data types for Tensors"
      ]
    },
    {
      "cell_type": "markdown",
      "metadata": {
        "id": "c9BiWttzCLJs"
      },
      "source": [
        "### Create a Tensor \n",
        "\n",
        "1. Create tensors from Numpy then see what operations can be applied.\n",
        "**Note:** By default a tensor resides in cpu but can be sent to the GPU for fatser computations"
      ]
    },
    {
      "cell_type": "code",
      "metadata": {
        "id": "vKdsfJNGc86F"
      },
      "source": [
        "import torch\n",
        "\n",
        "device = 'cuda' if torch.cuda.is_available() else 'cpu'\n",
        "\n",
        "x_train_tensor = torch.from_numpy(x_train).float().to(device)\n",
        "y_train_tensor = torch.from_numpy(y_train).float().to(device)\n",
        "\n",
        "# Here we can see the difference - notice that .type() is more useful\n",
        "# since it tells WHERE the tensor device\n",
        "\n",
        "print(type(x_train), type(x_train_tensor), x_train_tensor.type())"
      ],
      "execution_count": null,
      "outputs": []
    },
    {
      "cell_type": "markdown",
      "metadata": {
        "id": "VxhYLd2dMd15"
      },
      "source": [
        "### Dynamic Computation Graph\n",
        "\n",
        "* Easily visualize a graph using `PyTorchViz` package. "
      ]
    },
    {
      "cell_type": "code",
      "metadata": {
        "id": "nUGg1luKNTGk"
      },
      "source": [
        "!pip install torchviz \n",
        "from torchviz import make_dot\n",
        "\n",
        "a = torch.randn(1,requires_grad=True,device=device)\n",
        "b = torch.randn(1,requires_grad=True,device=device)\n",
        "c = torch.randn(1,requires_grad=True,device=device)\n",
        "d = torch.randn(1,requires_grad=True,device=device)\n",
        "\n",
        "f = a**b + b*0.5 + c**3 - d*a"
      ],
      "execution_count": null,
      "outputs": []
    },
    {
      "cell_type": "code",
      "metadata": {
        "id": "_ch9YEtgNt0T"
      },
      "source": [
        "make_dot(f)"
      ],
      "execution_count": null,
      "outputs": []
    },
    {
      "cell_type": "code",
      "metadata": {
        "id": "VGcFMG-NRbZ8"
      },
      "source": [
        ""
      ],
      "execution_count": null,
      "outputs": []
    }
  ]
}