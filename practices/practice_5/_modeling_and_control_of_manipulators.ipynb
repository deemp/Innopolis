{
 "cells": [
  {
   "cell_type": "markdown",
   "metadata": {
    "id": "zPmrTNlSBW-R",
    "slideshow": {
     "slide_type": "slide"
    }
   },
   "source": [
    "# **The Modeling and Control Of Manipulators**\n",
    "## **Goals for today**\n",
    "\n",
    "---\n",
    "\n",
    "\n",
    "\n",
    "During today practice we will:\n",
    "*   Revise the Dynamics of Mechanical Systems.\n",
    "*   Implement the simple multidof PD controller. \n",
    "*   Study the gravity compensation and inverse dynamics (fb)\n"
   ]
  },
  {
   "cell_type": "markdown",
   "metadata": {
    "id": "kgF8BN0GTBfP",
    "slideshow": {
     "slide_type": "slide"
    }
   },
   "source": [
    "## **Dynamics of Manipulators**\n",
    "\n",
    "Equation of motion for most mechanical systems may be written in following form:\n",
    "\\begin{equation}\n",
    "\\mathbf{Q} - \\mathbf{Q}_d = \\mathbf{D}(\\mathbf{q})\\ddot{\\mathbf{q}} + \\mathbf{C}(\\mathbf{q},\\dot{\\mathbf{q}})\\dot{\\mathbf{q}} + \\mathbf{g}(\\mathbf{q})  = \\mathbf{D}(\\mathbf{q})\\ddot{\\mathbf{q}} + \\mathbf{c}(\\mathbf{q},\\dot{\\mathbf{q}}) + \\mathbf{g}(\\mathbf{q}) = \\mathbf{D}(\\mathbf{q})\\ddot{\\mathbf{q}} + \\mathbf{h}(\\mathbf{q},\\dot{\\mathbf{q}})\n",
    "\\end{equation}\n",
    "\n",
    "where:\n",
    "* $\\mathbf{Q} \\in \\mathbb{R}^n $ - generalized forces corresponding to generilized coordinates\n",
    "* $\\mathbf{Q}_d \\in \\mathbb{R}^n $ - generalized disippative forces (for instance friction)\n",
    "* $\\mathbf{q} \\in \\mathbb{R}^{n}$ - vector of generilized coordinates\n",
    "* $\\mathbf{D} \\in \\mathbb{R}^{n \\times n}$ - positive definite symmetric inertia matrix \n",
    "* $\\mathbf{C} \\in \\mathbb{R}^{n \\times n}$ - describe 'coefficients' of centrifugal and Coriolis forces\n",
    "* $\\mathbf{g} \\in \\mathbb{R}^{n}$ - describes effect of gravity and other position depending forces\n",
    "* $\\mathbf{h} \\in \\mathbb{R}^n $ - combined effect of $\\mathbf{g}$ and $\\mathbf{C}$\n",
    "\n",
    "\n",
    "\n",
    "\n"
   ]
  },
  {
   "cell_type": "markdown",
   "metadata": {
    "slideshow": {
     "slide_type": "slide"
    }
   },
   "source": [
    "#### **Lagrange-Euler Equations**\n",
    "\n",
    "In order to find the EoM we will use the Lagrange-Euler equations:\n",
    "\\begin{equation}\n",
    "{\\frac  {d}{dt}}\\left({\\frac  {\\partial \\mathcal{L}}{\\partial {\\dot{\\mathbf{q}}}_{i}}}\\right)-{\\frac  {\\partial \\mathcal{L}}{\\partial \\mathbf{q}_{i}}}=\\mathbf{Q}_i -\\frac{\\partial \\mathcal{R}}{\\partial \\mathbf{\\dot{q}}_i},\\quad i = 1,2,\\dots, n\n",
    "\\end{equation}\n",
    "\n",
    "where:\n",
    "* $\\mathcal{L}(\\mathbf{q},\\dot{\\mathbf{q}}) \\triangleq E_K - E_\\Pi \\in \\mathbb{R}$ Lagrangian of the system  \n",
    "* $\\mathcal{R} \\in \\mathbb{R}$ Rayleigh function  (describes energy dissipation)\n",
    "\n"
   ]
  },
  {
   "cell_type": "markdown",
   "metadata": {
    "id": "oy9eMTp9pylr",
    "slideshow": {
     "slide_type": "slide"
    }
   },
   "source": [
    "### **Example: Remotely Driven Two Link Manipulator**\n",
    "\n",
    "---\n",
    "\n",
    "\n",
    "For instance let's consider remotely driven rigid 2-DoF manipulator:\n",
    "<p><img alt=\"Remote manipulator\" height=\"250\" src=\"https://drive.google.com/uc?id=1nY6dY3jmwtfXuIy0p1ZUXs3TNC0iSqf5\" align=\"center\" hspace=\"50px\" vspace=\"0px\"></p>\n"
   ]
  },
  {
   "cell_type": "markdown",
   "metadata": {
    "slideshow": {
     "slide_type": "slide"
    }
   },
   "source": [
    "\n",
    "#### **Energy**\n",
    "Kinetic and potential energy of this system is equal to:\n",
    "\\begin{equation}\n",
    "E_K = \\frac{1}{2}\\sum_{j=1}^{2}  m_j\\dot{\\mathbf{r}}_j^T\\dot{\\mathbf{r}}_j  +  J_j \\dot{\\alpha}^2_i, \\quad E_\\Pi = \\sum_{j=1}^{n}  m_i g y_i  \n",
    "\\end{equation}\n",
    "\n",
    "\n",
    "Where $\\mathbf{r}_j$ is Cartesian coordinates of mass $m_j$ calculated via forward kinematics as:\n",
    "\\begin{equation}\n",
    "\\mathbf{r}_1\n",
    "=\n",
    "\\begin{bmatrix}\n",
    "x_1 \\\\\n",
    "y_1\n",
    "\\end{bmatrix}\n",
    "=\n",
    "\\begin{bmatrix}\n",
    "l_1 \\cos \\alpha_1 \\\\\n",
    "l_1 \\sin \\alpha_1\n",
    "\\end{bmatrix}, \\quad\n",
    "\\mathbf{r}_2\n",
    "=\n",
    "\\begin{bmatrix}\n",
    "x_2 \\\\\n",
    "y_2\n",
    "\\end{bmatrix}\n",
    "=\n",
    "\\begin{bmatrix}\n",
    "l_1 \\cos \\alpha_1 + l_2 \\cos \\alpha_2 \\\\\n",
    "l_1 \\sin \\alpha_1 + l_2 \\sin \\alpha_2\n",
    "\\end{bmatrix}\n",
    "\\end{equation}\n",
    "\n",
    "\n"
   ]
  },
  {
   "cell_type": "markdown",
   "metadata": {
    "slideshow": {
     "slide_type": "slide"
    }
   },
   "source": [
    "Apart from kinetic and potential energy there are two dissipative elements in this system, namely \"dampers\" with coefficients $b_1, b_2$ (viscous friction), their dissipation function is given as:\n",
    "\\begin{equation}\n",
    "\\mathcal{R} = \\frac{1}{2}\\sum_{j=1}^{n}  b_j \\dot{\\alpha}^2_j\n",
    "\\end{equation}\n",
    "\n",
    "\n",
    "Defining generalized coordinates as $\\mathbf{q} = [\\alpha_1,\\alpha_2]^T$ and forces as $\\mathbf{Q} = [u_1,u_2]^T$ one can apply Lagrange formalism to obtain equations of motion as:\n",
    "\n",
    "\\begin{equation}\n",
    "\\begin{cases} \n",
    "I_1\\ddot{\\alpha}_1 + l_1^2 (m_1 + m_2) \\ddot{\\alpha}_1 + l_1 l_2 m_2 \\cos(\\alpha_1 - \\alpha_2)\\ddot{\\alpha}_2 + \n",
    "l_1 l_2 m_2 \\sin(\\alpha_1 - \\alpha_2)\\dot{\\alpha}^2_2\n",
    "+l_1 m_1 g \\cos \\alpha_1 + l_1 m_2 g \\cos \\alpha_2 + b_1 \\dot{\\alpha}_1 =u_1 \\\\\n",
    "l_1 l_2 m_2 \\cos(\\alpha_1 - \\alpha_2)\\ddot{\\alpha}_1 + I_2 \\ddot{\\alpha} + l_2^2 m_2 \\ddot{\\alpha}_2 - l_2 m_2 l_1 \\sin(\\alpha_1 - \\alpha_2)\\dot{\\alpha}^2_1 + l_2 m_2 g \\cos \\alpha_2+ b_2 \\dot{\\alpha}_2 = u_2\n",
    "\\end{cases}\n",
    "\\end{equation}\n",
    "\n"
   ]
  },
  {
   "cell_type": "markdown",
   "metadata": {
    "slideshow": {
     "slide_type": "slide"
    }
   },
   "source": [
    "\n",
    "Now we can find the $\\mathbf{D}, \\mathbf{C}, \\mathbf{g}$ to be:\n",
    "\\begin{equation}\n",
    "\\mathbf{D} = \n",
    "\\begin{bmatrix}\n",
    "l_1^2 (m_1 + m_2)+ J_1 & l_1 l_2 m_2  \\cos(\\alpha_1 - \\alpha_2)\\\\\n",
    "l_1 l_2 m_2 \\cos(\\alpha_1 - \\alpha_2) & l_2^2 m_2+ J_2\n",
    "\\end{bmatrix}, \\quad\n",
    "\\mathbf{Q}_d = \n",
    "\\begin{bmatrix}\n",
    "b_1 \\dot{\\alpha}_1 \\\\\n",
    "b_2 \\dot{\\alpha}_2\n",
    "\\end{bmatrix}\n",
    "\\end{equation}\n",
    "\n",
    "\\begin{equation}\n",
    "\\mathbf{c} = \\begin{bmatrix}\n",
    "l_1 l_2 m_2 \\sin(\\alpha_1 - \\alpha_2)\\dot{\\alpha}^2_2 \\\\\n",
    "- l_2 m_2 l_1 \\sin(\\alpha_1 - \\alpha_2)\\dot{\\alpha}^2_1\n",
    "\\end{bmatrix}\n",
    ", \\quad\n",
    "\\mathbf{g} = \\begin{bmatrix}\n",
    "l_1 m_1 g \\cos \\alpha_1 + l_1 m_2 g \\cos \\alpha_1 \\\\\n",
    " l_2 m_2 g \\cos \\alpha_2\n",
    "\\end{bmatrix}\n",
    "\\end{equation}"
   ]
  },
  {
   "cell_type": "markdown",
   "metadata": {
    "id": "IAdkDixtoLh4",
    "slideshow": {
     "slide_type": "slide"
    }
   },
   "source": [
    "### **Dynamics in State Space Form**\n",
    "Choosing state as $\\mathbf{x} = [\\mathbf{x}_1,\\mathbf{x}_2]^T= [\\mathbf{q},\\dot{\\mathbf{q}}]^T$ and control as $\\mathbf{Q} = [u_1,u_2]^T$ we can easily rewrite equations above as:\n",
    "\\begin{equation}\n",
    "\\dot{\\mathbf{x}}\n",
    "=\n",
    "\\begin{bmatrix}\n",
    "\\dot{\\mathbf{x}}_1 \\\\ \n",
    "\\dot{\\mathbf{x}}_2\n",
    "\\end{bmatrix}\n",
    "=\n",
    "\\begin{bmatrix}\n",
    "\\dot{\\mathbf{q}} \\\\ \n",
    "\\ddot{\\mathbf{q}}\n",
    "\\end{bmatrix}\n",
    "=\n",
    "\\begin{bmatrix}\n",
    "\\mathbf{x}_2 \\\\\n",
    "\\mathbf{D}(\\mathbf{x}_1)^{-1} \\big(\\mathbf{u} - \\mathbf{Q}_d -  \\mathbf{h}(\\mathbf{x}_1, \\mathbf{x}_2) \\big)\n",
    "\\end{bmatrix}\n",
    "\\end{equation}\n",
    "\n",
    "Once system is written in state space form - one can use conventional ODE solvers to simulate it."
   ]
  },
  {
   "cell_type": "markdown",
   "metadata": {
    "id": "elowhLnoMP-N",
    "slideshow": {
     "slide_type": "slide"
    }
   },
   "source": [
    "### **Tasks:**\n",
    "\n",
    "1. Implement the dynamics of two link manipulator and model the free response\n",
    "2. Propose the PD regulator to regulate the state to different desired values\n",
    "3. Introduce the gravity compensation \n",
    "4. Change desired trajectory to be the harmonical signal with different frequancies and amplitudes, discuss the response\n",
    "5. Implement the inverse dynamics controller. How did the response change?\n",
    "6. Vary the load parameter for simulation while keeping the same value for controller, discuss the change in system response both for regulation and tracking.\n",
    "\n"
   ]
  },
  {
   "cell_type": "markdown",
   "metadata": {
    "id": "vTEI69xDN775",
    "slideshow": {
     "slide_type": "slide"
    }
   },
   "source": [
    "### **System Parameters:**"
   ]
  },
  {
   "cell_type": "code",
   "execution_count": null,
   "metadata": {
    "id": "fd85t8ryrzdY",
    "slideshow": {
     "slide_type": "fragment"
    }
   },
   "outputs": [],
   "source": [
    "# Manipulator parameters\n",
    "l = 0.3, 0.3\n",
    "m = 0.5, 3.0\n",
    "J = 0.01, 0.01\n",
    "b = 0.02, 0.02\n",
    "g = 9.81\n",
    "params = l, m, J, b, g"
   ]
  }
 ],
 "metadata": {
  "celltoolbar": "Слайд-шоу",
  "colab": {
   "collapsed_sections": [],
   "name": "_modeling_and_control_of_manipulators.ipynb",
   "provenance": []
  },
  "kernelspec": {
   "display_name": "Python 3.6.9 64-bit",
   "language": "python",
   "name": "python369jvsc74a57bd0767d51c1340bd893661ea55ea3124f6de3c7a262a8b4abca0554b478b1e2ff90"
  },
  "language_info": {
   "codemirror_mode": {
    "name": "ipython",
    "version": 3
   },
   "file_extension": ".py",
   "mimetype": "text/x-python",
   "name": "python",
   "nbconvert_exporter": "python",
   "pygments_lexer": "ipython3",
   "version": "3.6.9"
  }
 },
 "nbformat": 4,
 "nbformat_minor": 1
}
