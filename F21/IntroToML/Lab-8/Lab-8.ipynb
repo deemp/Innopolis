{
 "cells": [
  {
   "cell_type": "markdown",
   "metadata": {
    "colab_type": "text",
    "id": "lLYOztuGtZQr"
   },
   "source": [
    "# Lab-8: Convolutions and CNN\n",
    "\n",
    "In this lab, you will practice simple deep learning model in Pytorch.\n",
    "\n",
    "\n",
    "## Objectives:\n",
    "\n",
    "1. Convolutions - application examples:\n",
    "    - edge detection    \n",
    "    - negation\n",
    "    - blurring\n",
    "    - sharpening\n",
    "2. Building CNN in PyTorch\n",
    "    - example CNN\n",
    "    - comparing with Fully-connected NN"
   ]
  },
  {
   "cell_type": "markdown",
   "metadata": {
    "colab_type": "text",
    "id": "fAlGKi7M0Kcj"
   },
   "source": [
    "### Recap\n",
    "\n",
    "1. What is the use of convolutions? (In general) \n",
    "2. Why use convolutional layers instead of fully-connected ones?"
   ]
  },
  {
   "cell_type": "markdown",
   "metadata": {
    "colab_type": "text",
    "id": "nzMQ4LjY5WP8"
   },
   "source": [
    "\n",
    "## Convolutions\n",
    "Let's upload some image (you can try your own image changing the url)"
   ]
  },
  {
   "cell_type": "code",
   "execution_count": null,
   "metadata": {},
   "outputs": [],
   "source": [
    "import urllib.request\n",
    "url = \"https://res-2.cloudinary.com/crunchbase-production/image/upload/c_lpad,h_256,w_256,f_auto,q_auto:eco/lss423kothpqpjpwbzg0\"\n",
    "filename = 'grid_img.jpg'\n",
    "urllib.request.urlretrieve(url, filename)"
   ]
  },
  {
   "cell_type": "code",
   "execution_count": null,
   "metadata": {
    "colab": {
     "base_uri": "https://localhost:8080/",
     "height": 287
    },
    "colab_type": "code",
    "id": "x5hHytSOsgMR",
    "outputId": "1623ab62-116f-48a8-d29b-4e2de0e1ae20"
   },
   "outputs": [],
   "source": [
    "import numpy as np\n",
    "import cv2\n",
    "import matplotlib.pyplot as plt\n",
    "from skimage.color import rgb2gray\n",
    "from scipy import ndimage\n",
    "\n",
    "# Let's read and plot the image\n",
    "image = plt.imread('grid_img.jpg')\n",
    "plt.imshow(image)"
   ]
  },
  {
   "cell_type": "code",
   "execution_count": null,
   "metadata": {
    "colab": {
     "base_uri": "https://localhost:8080/",
     "height": 305
    },
    "colab_type": "code",
    "id": "KP8e6uQJhHI4",
    "outputId": "79f708ad-26d4-4c17-bd34-f2cc36832796"
   },
   "outputs": [],
   "source": [
    "gray_image = rgb2gray(image)\n",
    "plt.imshow(gray_image * 100, cmap='gray')\n",
    "print(\"original img shape: \", image.shape)\n",
    "print(\"grayscale img shape\", gray_image.shape)"
   ]
  },
  {
   "cell_type": "code",
   "execution_count": null,
   "metadata": {
    "colab": {
     "base_uri": "https://localhost:8080/",
     "height": 126
    },
    "colab_type": "code",
    "id": "LSMZkTdJdCLA",
    "outputId": "a062a002-792e-4b93-9f18-48402b422362"
   },
   "outputs": [],
   "source": [
    "# first, let's define edge-detecting filters\n",
    "horizontal_kernel = np.array([[1, 1, 1], \n",
    "                              [0, 0, 0], \n",
    "                              [-1, -1, -1]])\n",
    "print(horizontal_kernel, 'is a kernel for detecting horizontal edges')\n",
    " \n",
    "vertical_kernel = np.array([[-1, 0, 1], \n",
    "                            [-1, 0, 1], \n",
    "                            [-1, 0, 1]])\n",
    "print(vertical_kernel, 'is a kernel for detecting vertical edges')"
   ]
  },
  {
   "cell_type": "markdown",
   "metadata": {
    "colab_type": "text",
    "id": "AU4OpcZ6l6Tu"
   },
   "source": [
    "Let's apply different types of convolutions on this image. Complete the following function.\n",
    "\n",
    "Take care of dimensions - the resuting image should be of the same size.\n",
    "Hint:\n",
    "\n",
    "![alt text](https://i.gyazo.com/5265866b07235dfa181de39913e94713.png)"
   ]
  },
  {
   "cell_type": "code",
   "execution_count": null,
   "metadata": {
    "colab": {
     "base_uri": "https://localhost:8080/",
     "height": 305
    },
    "colab_type": "code",
    "id": "1Nsy_UK-jO3h",
    "outputId": "8379fb15-d590-4afe-8dc4-411d18a8cf00",
    "scrolled": true
   },
   "outputs": [],
   "source": [
    "def convolve(img, kernel):\n",
    "        result = np.zeros(img.shape)\n",
    "        # apply kernel on input image such that the image size is preserved\n",
    "        \n",
    "        return result\n",
    "\n",
    "c = convolve(gray_image, horizontal_kernel)\n",
    "print(\"Horizontal kernel applied\")\n",
    "plt.imshow(c, cmap='gray')"
   ]
  },
  {
   "cell_type": "markdown",
   "metadata": {},
   "source": [
    "You should obtain a picture like this:<br>\n",
    "![alt text](https://i.gyazo.com/9dbf59f695ce9d44965eea72b623d747.png)"
   ]
  },
  {
   "cell_type": "code",
   "execution_count": null,
   "metadata": {
    "colab": {
     "base_uri": "https://localhost:8080/",
     "height": 305
    },
    "colab_type": "code",
    "id": "Fae1sNb6upVm",
    "outputId": "26c0c039-be68-4493-c7c9-d704acf2ab57"
   },
   "outputs": [],
   "source": [
    "c = convolve(gray_image, vertical_kernel)\n",
    "print(\"Vertical kernel applied\")\n",
    "plt.imshow(c, cmap='gray')"
   ]
  },
  {
   "cell_type": "code",
   "execution_count": null,
   "metadata": {
    "colab": {
     "base_uri": "https://localhost:8080/",
     "height": 287
    },
    "colab_type": "code",
    "id": "Tbldlmjd4V2V",
    "outputId": "1729954e-5e7d-45a1-dfe9-9b9983bf773f"
   },
   "outputs": [],
   "source": [
    "# play with numbers, see how changing the kernel affects the result\n",
    "your_kernel = np.array([[0, 0, 0], \n",
    "                        [0, 0, 0], \n",
    "                        [0, 0, 0]])\n",
    "\n",
    "c = convolve(gray_image, your_kernel)\n",
    "print(\"Your kernel applied\")\n",
    "plt.imshow(c, cmap='gray')\n",
    "\n",
    "some_kernel = np.array([[-1]])"
   ]
  },
  {
   "cell_type": "code",
   "execution_count": null,
   "metadata": {
    "colab": {
     "base_uri": "https://localhost:8080/",
     "height": 305
    },
    "colab_type": "code",
    "id": "H0FoPP3z4yb2",
    "outputId": "7c54ff35-67bd-4d62-dc25-1957aabca2f6"
   },
   "outputs": [],
   "source": [
    "# Define the kernel that will result in reversed image, in which the lightest areas of\n",
    "# the photographed subject appear darkest and the darkest areas appear the lightest.\n",
    "negative_kernel = None\n",
    "\n",
    "c = convolve(gray_image, negative_kernel)\n",
    "print(\"Negative kernel applied\")\n",
    "plt.imshow(c, cmap='gray')"
   ]
  },
  {
   "cell_type": "code",
   "execution_count": null,
   "metadata": {
    "colab": {
     "base_uri": "https://localhost:8080/",
     "height": 305
    },
    "colab_type": "code",
    "id": "RES2q6DC5bCI",
    "outputId": "c489fc1d-170b-47c1-d67a-6488e91b469b"
   },
   "outputs": [],
   "source": [
    "# Define the kernel that will result in a blurred image\n",
    "# How can we control the degree of blur?\n",
    "\n",
    "blur_kernel = None\n",
    "\n",
    "c_blurred = convolve(gray_image, blur_kernel)\n",
    "print(\"Blur kernel applied\")\n",
    "plt.imshow(c_blurred, cmap='gray')"
   ]
  },
  {
   "cell_type": "code",
   "execution_count": null,
   "metadata": {
    "colab": {
     "base_uri": "https://localhost:8080/",
     "height": 305
    },
    "colab_type": "code",
    "id": "79SiM9Z99W6i",
    "outputId": "eab18d73-403e-4707-e35f-60d98ee2d2fd"
   },
   "outputs": [],
   "source": [
    "# Now let's sharpen the blurred image back \n",
    "sharpen_kernel = None\n",
    "\n",
    "c = convolve(c_blurred, sharpen_kernel)\n",
    "print(\"Sharpen kernel applied\")\n",
    "plt.imshow(c, cmap='gray')"
   ]
  },
  {
   "cell_type": "markdown",
   "metadata": {
    "colab_type": "text",
    "id": "YcGwL_d__qH6"
   },
   "source": [
    "## CNN with PyTorch\n",
    "\n",
    "### 1. Data Loading"
   ]
  },
  {
   "cell_type": "code",
   "execution_count": null,
   "metadata": {
    "colab": {},
    "colab_type": "code",
    "collapsed": true,
    "id": "X_PBgoYvBzzw"
   },
   "outputs": [],
   "source": [
    "import torch\n",
    "import torch.nn as nn\n",
    "import torch.nn.functional as F\n",
    "import torch.optim as optim\n",
    "from torchvision import datasets, transforms\n",
    "from torch. utils.data import DataLoader\n",
    "\n",
    "batch_size = 32\n",
    "test_batch_size = 100\n",
    "\n",
    "# Transformations\n",
    "data_transformations = transforms.Compose([\n",
    "                           transforms.ToTensor(),\n",
    "                           transforms.Normalize((0.1307,), (0.3081,))\n",
    "                       ])\n",
    "\n",
    "# Data Source\n",
    "mnist_train = datasets.MNIST('../data', train=True, download=True,\n",
    "                       transform=data_transformations)\n",
    "mnist_test = datasets.MNIST('../data', train=False,\n",
    "                            transform=data_transformations)\n",
    "\n",
    "\n",
    "# Data loaders\n",
    "train_loader = DataLoader(mnist_train,\n",
    "                          batch_size=batch_size, shuffle=True)\n",
    "test_loader = DataLoader(mnist_test,\n",
    "                         batch_size=test_batch_size, shuffle=True)"
   ]
  },
  {
   "cell_type": "markdown",
   "metadata": {
    "colab_type": "text",
    "id": "iti8UJclCN8f"
   },
   "source": [
    "## 2.1 CNN model"
   ]
  },
  {
   "cell_type": "code",
   "execution_count": null,
   "metadata": {
    "colab": {},
    "colab_type": "code",
    "collapsed": true,
    "id": "bH22zyDwCYCf"
   },
   "outputs": [],
   "source": [
    "class Net(nn.Module):\n",
    "    # Convolution formula: ((n + 2p - f) / s) + 1\n",
    "        \n",
    "    def __init__(self):\n",
    "        super(Net, self).__init__()\n",
    "        self.conv1 = nn.Conv2d(1, 10, kernel_size=5) \n",
    "        self.conv2 = nn.Conv2d(10, 20, kernel_size=5)\n",
    "        self.conv2_drop = nn.Dropout2d()\n",
    "        self.fc1 = nn.Linear(320, 50)\n",
    "        self.fc2 = nn.Linear(50, 10)\n",
    "\n",
    "    def forward(self, x):\n",
    "        # Exercise: calclulate shape after each layer\n",
    "        # initial shape: [32, 1, 28, 28]\n",
    "        x = F.relu(F.max_pool2d(self.conv1(x), 2))\n",
    "        # shape: [32, ?]\n",
    "        x = F.relu(F.max_pool2d(self.conv2_drop(self.conv2(x)), 2)) \n",
    "        # shape: [32, ?]\n",
    "        x = x.view(-1, 320) \n",
    "        # shape: [32, ?]\n",
    "        x = F.relu(self.fc1(x))\n",
    "        x = F.dropout(x, training=self.training)\n",
    "        x = self.fc2(x)\n",
    "        return F.log_softmax(x)\n",
    "\n",
    "use_cuda = torch.cuda.is_available()\n",
    "device = torch.device(\"cuda\" if use_cuda else \"cpu\")\n",
    "model_cnn = Net().to(device)"
   ]
  },
  {
   "cell_type": "markdown",
   "metadata": {
    "colab_type": "text",
    "id": "B7yb8hBpB7Fu"
   },
   "source": [
    "## 2.2 Fully-conected model from the last class"
   ]
  },
  {
   "cell_type": "code",
   "execution_count": null,
   "metadata": {
    "colab": {},
    "colab_type": "code",
    "collapsed": true,
    "id": "9XrXxSOIB5TH"
   },
   "outputs": [],
   "source": [
    "class Net(nn.Module):\n",
    "    def __init__(self):\n",
    "        super(Net, self).__init__()\n",
    "        self.fc1 = nn.Linear(28*28, 500)\n",
    "        self.fc2 = nn.Linear(500, 250)\n",
    "        self.fc3 = nn.Linear(250, 100)\n",
    "        self.fc4 = nn.Linear(100, 10)\n",
    "\n",
    "    def forward(self, x):\n",
    "        x = x.view(-1, 28*28)\n",
    "        x = F.relu(self.fc1(x))        \n",
    "        x = F.relu(self.fc2(x))\n",
    "        x = F.relu(self.fc3(x))\n",
    "        x = self.fc4(x)\n",
    "        return F.log_softmax(x, dim=1)\n",
    "    \n",
    "use_cuda = torch.cuda.is_available()\n",
    "device = torch.device(\"cuda\" if use_cuda else \"cpu\")\n",
    "model_nn = Net().to(device)"
   ]
  },
  {
   "cell_type": "code",
   "execution_count": null,
   "metadata": {
    "colab": {},
    "colab_type": "code",
    "collapsed": true,
    "id": "ZpsM2vS4F26n"
   },
   "outputs": [],
   "source": [
    "def count_parameters(model):\n",
    "    return sum(p.numel() for p in model.parameters() if p.requires_grad)"
   ]
  },
  {
   "cell_type": "code",
   "execution_count": null,
   "metadata": {
    "colab": {
     "base_uri": "https://localhost:8080/",
     "height": 54
    },
    "colab_type": "code",
    "id": "R1sHQhqFF4Pc",
    "outputId": "94edae09-67f4-4e62-deb3-a386332b4297"
   },
   "outputs": [],
   "source": [
    "# Let's compare the number of parameters of these models:\n",
    "print(\"Number of params in the Fully-connected model:\", count_parameters(model_nn))\n",
    "print(\"Number of params in the CNN model:\", count_parameters(model_cnn))\n",
    "      "
   ]
  },
  {
   "cell_type": "markdown",
   "metadata": {
    "colab_type": "text",
    "id": "DmFoZVXWfGe3"
   },
   "source": [
    "Task: Try changing the fully-connected model to have the same number of parameters as CNN and compare the resulting performance "
   ]
  },
  {
   "cell_type": "markdown",
   "metadata": {
    "colab_type": "text",
    "id": "Pry2xqvdDDGO"
   },
   "source": [
    "## 3. Training and testing"
   ]
  },
  {
   "cell_type": "code",
   "execution_count": null,
   "metadata": {
    "colab": {},
    "colab_type": "code",
    "collapsed": true,
    "id": "yS3Eo37FDKt3"
   },
   "outputs": [],
   "source": [
    "def train( model, device, train_loader, optimizer, epoch):\n",
    "    model.train()\n",
    "    for batch_idx, (data, target) in enumerate(train_loader):\n",
    "        data, target = data.to(device), target.to(device)\n",
    "        optimizer.zero_grad()\n",
    "        output = model(data)\n",
    "        loss = F.nll_loss(output, target)\n",
    "        loss.backward()\n",
    "        optimizer.step()\n",
    "        if batch_idx % log_interval == 0:\n",
    "            print('Train Epoch: {} [{}/{} ({:.0f}%)]\\tLoss: {:.6f}'.format(\n",
    "                epoch, batch_idx * len(data), len(train_loader.dataset),\n",
    "                       100. * batch_idx / len(train_loader), loss.item()))\n",
    "            \n",
    "def test( model, device, test_loader):\n",
    "    model.eval()\n",
    "    test_loss = 0\n",
    "    correct = 0\n",
    "    with torch.no_grad():\n",
    "        for data, target in test_loader:\n",
    "            data, target = data.to(device), target.to(device)\n",
    "            output = model(data)\n",
    "            test_loss += F.nll_loss(output, target, reduction='sum').item()  # sum up batch loss\n",
    "            pred = output.argmax(dim=1, keepdim=True)  # get the index of the max log-probability\n",
    "            correct += pred.eq(target.view_as(pred)).sum().item()\n",
    "\n",
    "    test_loss /= len(test_loader.dataset)\n",
    "\n",
    "    print('\\nTest set: Average loss: {:.4f}, Accuracy: {}/{} ({:.2f}%)\\n'.format(\n",
    "        test_loss, correct, len(test_loader.dataset),\n",
    "        100. * correct / len(test_loader.dataset)))"
   ]
  },
  {
   "cell_type": "code",
   "execution_count": null,
   "metadata": {
    "colab": {
     "base_uri": "https://localhost:8080/",
     "height": 1000
    },
    "colab_type": "code",
    "id": "V_CvS8oBDhL1",
    "outputId": "7c86beb1-139a-4595-a216-d4c8a3896139"
   },
   "outputs": [],
   "source": [
    "epochs = 10\n",
    "lr = 0.01\n",
    "momentum = 0.5\n",
    "log_interval = 700\n",
    "\n",
    "# training CNN model\n",
    "model = model_cnn\n",
    "optimizer = optim.SGD(model.parameters(), lr=lr, momentum=momentum)\n",
    "\n",
    "for epoch in range(1, epochs + 1):\n",
    "    train(model, device, train_loader, optimizer, epoch)\n",
    "    test(model, device, test_loader)\n",
    "\n",
    "torch.save(model.state_dict(), \"mnist_cnn.pt\")"
   ]
  },
  {
   "cell_type": "code",
   "execution_count": null,
   "metadata": {},
   "outputs": [],
   "source": [
    "# training the fully-connected model\n",
    "\n",
    "model = model_nn\n",
    "optimizer = optim.SGD(model.parameters(), lr=lr, momentum=momentum)\n",
    "\n",
    "for epoch in range(1, epochs + 1):\n",
    "    train(model, device, train_loader, optimizer, epoch)\n",
    "    test(model, device, test_loader)\n",
    "\n",
    "torch.save(model.state_dict(), \"mnist_nn.pt\")"
   ]
  }
 ],
 "metadata": {
  "colab": {
   "name": "Week12.ipynb",
   "provenance": []
  },
  "kernelspec": {
   "display_name": "Python 3",
   "language": "python",
   "name": "python3"
  },
  "language_info": {
   "codemirror_mode": {
    "name": "ipython",
    "version": 3
   },
   "file_extension": ".py",
   "mimetype": "text/x-python",
   "name": "python",
   "nbconvert_exporter": "python",
   "pygments_lexer": "ipython3",
   "version": "3.6.10"
  }
 },
 "nbformat": 4,
 "nbformat_minor": 1
}