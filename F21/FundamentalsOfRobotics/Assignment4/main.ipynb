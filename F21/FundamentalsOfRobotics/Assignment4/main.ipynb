{
 "cells": [
  {
   "cell_type": "markdown",
   "metadata": {},
   "source": [
    "# Assignment 4"
   ]
  },
  {
   "cell_type": "markdown",
   "metadata": {},
   "source": [
    "## Main tasks"
   ]
  },
  {
   "cell_type": "markdown",
   "metadata": {},
   "source": []
  },
  {
   "cell_type": "code",
   "execution_count": 1,
   "metadata": {},
   "outputs": [],
   "source": [
    "from utils import fk_symb\n",
    "import sympy as sp\n",
    "\n",
    "# (4,4)\n",
    "Tbase = sp.eye(4)\n",
    "# (7,4,4)\n",
    "Ts_q = [Tbase] + fk_symb"
   ]
  },
  {
   "cell_type": "code",
   "execution_count": 2,
   "metadata": {},
   "outputs": [],
   "source": [
    "from utils import qs_symb, n_link\n",
    "t = sp.symbols('t')\n",
    "\n",
    "qs = [sp.Function(f'q{i}')(t) for i in range(1,n_link+1)]\n",
    "Ts = [t.subs(zip(qs_symb,qs)) for t in Ts_q]"
   ]
  },
  {
   "cell_type": "code",
   "execution_count": 3,
   "metadata": {},
   "outputs": [],
   "source": [
    "import numpy as np\n",
    "# (7,3)\n",
    "ps = [np.array(t[:3,3].T.tolist())[0] for t in Ts]"
   ]
  },
  {
   "cell_type": "code",
   "execution_count": 4,
   "metadata": {},
   "outputs": [],
   "source": [
    "from utils import link_lengths\n",
    "# (6,1)\n",
    "cs = link_lengths / 2"
   ]
  },
  {
   "cell_type": "code",
   "execution_count": 5,
   "metadata": {},
   "outputs": [],
   "source": [
    "import numpy as np\n",
    "# (6,1)\n",
    "ks = np.array([2,0,0,2,0,2])"
   ]
  },
  {
   "cell_type": "code",
   "execution_count": 6,
   "metadata": {},
   "outputs": [],
   "source": [
    "# (6,3,3)\n",
    "Rs = [t[:3,:3] for t in Ts[1:]]\n",
    "# (6,3)\n",
    "pcs = [np.array((t[:3,3] + c * t[:3,k]).tolist()) for t,c,k in zip(Ts[1:], cs, ks)]\n",
    "# (6,4,4)\n",
    "Tcs = [sp.eye(4) for i in pcs]\n",
    "for i,r,p in zip(Tcs, Rs, pcs):\n",
    "    i[:3,:3] = r\n",
    "    i[:3,3] = p"
   ]
  },
  {
   "cell_type": "code",
   "execution_count": 7,
   "metadata": {},
   "outputs": [],
   "source": [
    "# (7,1,3)\n",
    "us = [np.array(r[:3,2].T.tolist())[0] for r in Ts]"
   ]
  },
  {
   "cell_type": "code",
   "execution_count": 8,
   "metadata": {},
   "outputs": [],
   "source": [
    "r = 1\n",
    "# (6,)\n",
    "ms = [1,3,5,2,4,6]\n",
    "# (6,)\n",
    "axs = ['x','z','z','x','z','x']\n",
    "\n",
    "def get_inertia_matrix(idx, axis):\n",
    "    i1 = 1/12 * ms[idx] * (3 * r**2 + link_lengths[idx]**2)\n",
    "    i2 = 1/2 * ms[idx] * r**2\n",
    "\n",
    "    if axis == 'z':\n",
    "        return np.diag([i1,i1,i2])\n",
    "    elif axis == 'x':\n",
    "        return np.diag([i2,i1,i1])\n",
    "    else:\n",
    "        return None\n",
    "\n",
    "# (6,3,3)\n",
    "Is = [get_inertia_matrix(i,ax) for i,ax in zip(range(6),axs)]"
   ]
  },
  {
   "cell_type": "code",
   "execution_count": 9,
   "metadata": {},
   "outputs": [],
   "source": [
    "from utils import n_link\n",
    "\n",
    "# (6,3,6)\n",
    "Jvs = [None] * n_link\n",
    "# (6,3,6)\n",
    "Jws = [None] * n_link\n",
    "# (6,3)\n",
    "pcs1 = [pc[0] for pc in pcs]\n",
    "\n",
    "for i in range(n_link):\n",
    "    Jv = sp.zeros(3,6)\n",
    "    Jw = sp.zeros(3,6)\n",
    "    for k in range(i+1):\n",
    "        Jv[:3,k] = np.cross(us[k], pcs1[i] - ps[k])\n",
    "        Jw[:3,k] = us[k]\n",
    "    \n",
    "    Jvs[i] = Jv\n",
    "    Jws[i] = Jw"
   ]
  },
  {
   "cell_type": "code",
   "execution_count": 10,
   "metadata": {},
   "outputs": [],
   "source": [
    "M = sp.zeros(6,6)\n",
    "for m,jv,jw,r,i in zip(ms,Jvs,Jws,Rs,Is):\n",
    "    M += m * jv.T * jv + jw.T * r * i * r.T * jw"
   ]
  },
  {
   "cell_type": "code",
   "execution_count": 11,
   "metadata": {},
   "outputs": [],
   "source": [
    "from sympy.utilities import lambdify\n",
    "M_num = lambdify(tuple(qs),M,'numpy')"
   ]
  },
  {
   "cell_type": "code",
   "execution_count": 12,
   "metadata": {},
   "outputs": [
    {
     "name": "stdout",
     "output_type": "stream",
     "text": [
      "[[ 41.9553   2.5836  -6.9394  -0.8001  -9.4994  20.2535]\n",
      " [  2.5836  33.2065  27.5389  -4.2521 -16.664   -4.0442]\n",
      " [ -6.9394  27.5389  42.4496  -4.2521 -23.9377 -14.7718]\n",
      " [ -0.8001  -4.2521  -4.2521  77.819   34.0796   0.0383]\n",
      " [ -9.4994 -16.664  -23.9377  34.0796  46.3123  -0.0374]\n",
      " [ 20.2535  -4.0442 -14.7718   0.0383  -0.0374  41.32  ]]\n"
     ]
    }
   ],
   "source": [
    "np.set_printoptions(precision=4)\n",
    "print(M_num(*[0,1,0,1,0,1]))"
   ]
  },
  {
   "cell_type": "code",
   "execution_count": 13,
   "metadata": {},
   "outputs": [],
   "source": [
    "Mdot = sp.diff(M,t)"
   ]
  },
  {
   "cell_type": "code",
   "execution_count": 14,
   "metadata": {},
   "outputs": [],
   "source": [
    "C = sp.zeros(n_link, n_link)\n",
    "q_dots = [sp.Symbol(f'qd{i}') for i in range(1,n_link+1)]\n",
    "\n",
    "for i in range(n_link):\n",
    "    for j in range(n_link):\n",
    "        for k in range(n_link):\n",
    "            C[i, j] += (\n",
    "                1\n",
    "                / 2\n",
    "                * (\n",
    "                    M[i, j].diff(qs[k])\n",
    "                    + M[i, k].diff(qs[j])\n",
    "                    - M[j, k].diff(qs[i])\n",
    "                )\n",
    "                * q_dots[k]\n",
    "            )"
   ]
  },
  {
   "cell_type": "code",
   "execution_count": 15,
   "metadata": {},
   "outputs": [],
   "source": [
    "C_num = lambdify(tuple([tuple(qs),tuple(q_dots)]),C,'numpy')"
   ]
  },
  {
   "cell_type": "code",
   "execution_count": 16,
   "metadata": {},
   "outputs": [
    {
     "data": {
      "text/plain": [
       "array([[-44.461 , -64.43  , -28.8308, -17.9399,  12.9534,  -8.3808],\n",
       "       [ 47.4361,   2.4878, -11.0268, -11.213 ,   0.1017,  10.3985],\n",
       "       [ 46.6385,  47.1607,  35.6166,  23.9306, -10.6997,   1.2679],\n",
       "       [ 10.577 ,  28.5088,  -1.5239,  60.9424,  -6.4566, -13.9125],\n",
       "       [  4.6757,  -9.1744, -29.3278,  -1.9536,  -2.4099,   6.9524],\n",
       "       [-42.6622, -45.5654, -35.0067, -62.0361,  26.8044,   9.0469]])"
      ]
     },
     "execution_count": 16,
     "metadata": {},
     "output_type": "execute_result"
    }
   ],
   "source": [
    "q1 = [0,1,0,1,0,1]\n",
    "q2 = [1,0,1,0,1,0]\n",
    "C_num(q1,q2)"
   ]
  },
  {
   "cell_type": "code",
   "execution_count": 17,
   "metadata": {},
   "outputs": [],
   "source": [
    "Jvs_num = [lambdify(tuple(qs), j) for j in Jvs]"
   ]
  },
  {
   "cell_type": "code",
   "execution_count": 18,
   "metadata": {},
   "outputs": [
    {
     "data": {
      "text/plain": [
       "array([  -0.    , -140.2443,  -26.2864,   42.1897,   36.9794,   19.4978])"
      ]
     },
     "execution_count": 18,
     "metadata": {},
     "output_type": "execute_result"
    }
   ],
   "source": [
    "from sympy.utilities.lambdify import implemented_function\n",
    "g = 9.81\n",
    "g0 = np.array([0,0,g])\n",
    "\n",
    "\n",
    "def G_num(qs):\n",
    "    g = np.zeros(n_link)\n",
    "    for j,m in zip(Jvs_num,ms):\n",
    "        g += (j(*qs).T.dot(g0)) * m\n",
    "    return -g\n",
    "\n",
    "G_num(q1)"
   ]
  },
  {
   "cell_type": "code",
   "execution_count": 19,
   "metadata": {},
   "outputs": [],
   "source": [
    "def get_torques(qs,q_dots,q_ddots):\n",
    "    return M_num(*qs).dot(q_ddots) + C_num(qs,q_dots).dot(q_dots) + G_num(qs)"
   ]
  },
  {
   "cell_type": "code",
   "execution_count": 20,
   "metadata": {},
   "outputs": [
    {
     "name": "stdout",
     "output_type": "stream",
     "text": [
      "[-38.3014 -78.8231  53.7841 118.3914  27.2957   5.9473]\n"
     ]
    }
   ],
   "source": [
    "print(get_torques(q1,q2,q1))"
   ]
  }
 ],
 "metadata": {
  "interpreter": {
   "hash": "6f36983aafed96f5fa91392796a09cfbdd379f27d71716bc55300a4571c3f4b2"
  },
  "kernelspec": {
   "display_name": "Python 3.9.7 64-bit ('for_env': conda)",
   "language": "python",
   "name": "python3"
  },
  "language_info": {
   "codemirror_mode": {
    "name": "ipython",
    "version": 3
   },
   "file_extension": ".py",
   "mimetype": "text/x-python",
   "name": "python",
   "nbconvert_exporter": "python",
   "pygments_lexer": "ipython3",
   "version": "3.9.7"
  },
  "orig_nbformat": 4
 },
 "nbformat": 4,
 "nbformat_minor": 2
}
